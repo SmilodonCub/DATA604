{
 "cells": [
  {
   "cell_type": "markdown",
   "metadata": {},
   "source": [
    "# Modeling and Simulation in Python\n",
    "Allen B Downey\n",
    "\n",
    "Working through this book. Notes from reading and example code. Implementing things without using the class package."
   ]
  },
  {
   "cell_type": "markdown",
   "metadata": {},
   "source": [
    " "
   ]
  },
  {
   "cell_type": "markdown",
   "metadata": {},
   "source": [
    "## Intro\n",
    "\n",
    "**This book's immediate goal:** writing simulations of physical systems"
   ]
  },
  {
   "cell_type": "code",
   "execution_count": 1,
   "metadata": {},
   "outputs": [],
   "source": [
    "import numpy as np\n",
    "import scipy as sp\n",
    "import matplotlib as plt\n",
    "import pandas as pd\n",
    "import sympy as sym\n",
    "import pint as pt"
   ]
  },
  {
   "cell_type": "markdown",
   "metadata": {},
   "source": [
    " "
   ]
  },
  {
   "cell_type": "markdown",
   "metadata": {},
   "source": [
    "## Modeling\n",
    "\n",
    "*All models are wrong, but some are useful*\n",
    "    -George Box\n",
    "\n",
    "**abstraction:** deciding what details can be left out\n",
    "**a model** description of a system that includes only the features we think are essential. the goal of the modeling process is to find the model best suited to its purpose (prediction, explanation, or design)\n",
    "\n",
    "**often a simple model is better.** if we include only the essential features and leave out the rest,we get models that are easier to work with, and the explanations they provide can be cleaer and more compelling. start with a simple model, even if it is too simple, and test whether it is good enough  for its purpose.\n"
   ]
  },
  {
   "cell_type": "code",
   "execution_count": 2,
   "metadata": {},
   "outputs": [
    {
     "name": "stdout",
     "output_type": "stream",
     "text": [
      "9.8 meter / second ** 2\n",
      "meter / second ** 2\n",
      "[length] / [time] ** 2\n"
     ]
    }
   ],
   "source": [
    "from pint import UnitRegistry\n",
    "unitsR = UnitRegistry()\n",
    "\n",
    "#penny falling from the empire state building\n",
    "a = 9.8 * unitsR.meter / unitsR.second**2\n",
    "print( a )\n",
    "print( a.units )\n",
    "print( a.dimensionality )"
   ]
  },
  {
   "cell_type": "code",
   "execution_count": 3,
   "metadata": {},
   "outputs": [
    {
     "name": "stdout",
     "output_type": "stream",
     "text": [
      "86.42 meter / second\n"
     ]
    }
   ],
   "source": [
    "h = 381 * unitsR.meter\n",
    "t = np.sqrt( 2 * h / a )\n",
    "v = round( a * t, 2 )\n",
    "print( v )"
   ]
  },
  {
   "cell_type": "code",
   "execution_count": 4,
   "metadata": {},
   "outputs": [
    {
     "data": {
      "text/html": [
       "\\[193.32\\ mile/hour\\]"
      ],
      "text/latex": [
       "$193.32\\ \\frac{\\mathrm{mile}}{\\mathrm{hour}}$"
      ],
      "text/plain": [
       "193.32 <Unit('mile / hour')>"
      ]
     },
     "execution_count": 4,
     "metadata": {},
     "output_type": "execute_result"
    }
   ],
   "source": [
    "#convert to miles/hour\n",
    "mile = unitsR.mile\n",
    "hour = unitsR.hour\n",
    "round( v.to(mile/hour), 2 )"
   ]
  },
  {
   "cell_type": "code",
   "execution_count": 5,
   "metadata": {},
   "outputs": [],
   "source": [
    "#if same dimensionality, will convert to units of first variable\n",
    "foot = unitsR.foot\n",
    "pole_height = 10 * foot"
   ]
  },
  {
   "cell_type": "code",
   "execution_count": 6,
   "metadata": {},
   "outputs": [
    {
     "data": {
      "text/html": [
       "\\[1260.0\\ foot\\]"
      ],
      "text/latex": [
       "$1260.0\\ \\mathrm{foot}$"
      ],
      "text/plain": [
       "1260.0 <Unit('foot')>"
      ]
     },
     "execution_count": 6,
     "metadata": {},
     "output_type": "execute_result"
    }
   ],
   "source": [
    "pole_height + h"
   ]
  },
  {
   "cell_type": "code",
   "execution_count": 7,
   "metadata": {},
   "outputs": [
    {
     "data": {
      "text/html": [
       "\\[384.048\\ meter\\]"
      ],
      "text/latex": [
       "$384.048\\ \\mathrm{meter}$"
      ],
      "text/plain": [
       "384.048 <Unit('meter')>"
      ]
     },
     "execution_count": 7,
     "metadata": {},
     "output_type": "execute_result"
    }
   ],
   "source": [
    "h + pole_height"
   ]
  },
  {
   "cell_type": "code",
   "execution_count": 8,
   "metadata": {},
   "outputs": [
    {
     "data": {
      "text/html": [
       "\\[22.085034013605444\\ second\\]"
      ],
      "text/latex": [
       "$22.085034013605444\\ \\mathrm{second}$"
      ],
      "text/plain": [
       "22.085034013605444 <Unit('second')>"
      ]
     },
     "execution_count": 8,
     "metadata": {},
     "output_type": "execute_result"
    }
   ],
   "source": [
    "#but what about terminal velocity?\n",
    "#How long will it take a penny to land from the top of the \n",
    "#empire state building when we take into account that the penny \n",
    "#reaches a terminal velocity of 18 meters/second?\n",
    "meter = unitsR.meter\n",
    "second = unitsR.second\n",
    "\n",
    "# How long until the penny reaches 18 m/s with constant acceleration a.\n",
    "termV = 18 * meter / second\n",
    "time2termV = termV / a\n",
    "\n",
    "# How far would the penny fall during that time?\n",
    "dist2termV = a * time2termV**2 / 2\n",
    "\n",
    "# How long to fall the remaining distance \n",
    "#with constant velocity 18 m/s?\n",
    "remainingDist = h - dist2termV\n",
    "timeRemainingDist = remainingDist / termV\n",
    "\n",
    "# STotal time for penny to fall 381 m\n",
    "totalTime = time2termV + timeRemainingDist\n",
    "totalTime"
   ]
  },
  {
   "cell_type": "markdown",
   "metadata": {},
   "source": [
    " "
   ]
  },
  {
   "cell_type": "markdown",
   "metadata": {},
   "source": [
    "## Bike Share \n",
    "\n",
    "a simple model of a bike share system."
   ]
  },
  {
   "cell_type": "code",
   "execution_count": 9,
   "metadata": {},
   "outputs": [],
   "source": [
    "#define a state object to collect state variables to simulate the bikes at each location\n",
    "class State(object):\n",
    "    olin = 0\n",
    "    wellesley = 0   "
   ]
  },
  {
   "cell_type": "code",
   "execution_count": 10,
   "metadata": {},
   "outputs": [],
   "source": [
    "#an instance \n",
    "bikeshare = State( )"
   ]
  },
  {
   "cell_type": "code",
   "execution_count": 11,
   "metadata": {},
   "outputs": [
    {
     "data": {
      "text/plain": [
       "{'wellesley': 2, 'olin': 10}"
      ]
     },
     "execution_count": 11,
     "metadata": {},
     "output_type": "execute_result"
    }
   ],
   "source": [
    "bikeshare.wellesley = 2\n",
    "bikeshare.olin = 10\n",
    "vars( bikeshare )"
   ]
  },
  {
   "cell_type": "code",
   "execution_count": 12,
   "metadata": {},
   "outputs": [
    {
     "data": {
      "text/plain": [
       "{'wellesley': 3, 'olin': 9}"
      ]
     },
     "execution_count": 12,
     "metadata": {},
     "output_type": "execute_result"
    }
   ],
   "source": [
    "#a student moves a bike from olin to wellesley\n",
    "bikeshare.olin -= 1\n",
    "bikeshare.wellesley += 1\n",
    "vars( bikeshare )"
   ]
  },
  {
   "cell_type": "code",
   "execution_count": 13,
   "metadata": {},
   "outputs": [],
   "source": [
    "#def a fxn to move a bike from olin to welesley & vice versa\n",
    "def bike_to_wellesley():\n",
    "    print( 'a bike goes to Wellesley' )\n",
    "    bikeshare.olin -= 1\n",
    "    bikeshare.wellesley += 1\n",
    "    \n",
    "def bike_to_olin():\n",
    "    print( 'a bike goes to Olin' )\n",
    "    bikeshare.olin += 1\n",
    "    bikeshare.wellesley -= 1"
   ]
  },
  {
   "cell_type": "code",
   "execution_count": 14,
   "metadata": {},
   "outputs": [
    {
     "name": "stdout",
     "output_type": "stream",
     "text": [
      "9 3\n",
      "a bike goes to Wellesley\n",
      "8 4\n"
     ]
    }
   ],
   "source": [
    "print( bikeshare.olin, bikeshare.wellesley )\n",
    "bike_to_wellesley()\n",
    "print( bikeshare.olin, bikeshare.wellesley )"
   ]
  },
  {
   "cell_type": "code",
   "execution_count": 15,
   "metadata": {},
   "outputs": [
    {
     "name": "stdout",
     "output_type": "stream",
     "text": [
      "8 4\n",
      "a bike goes to Olin\n",
      "9 3\n"
     ]
    }
   ],
   "source": [
    "print( bikeshare.olin, bikeshare.wellesley )\n",
    "bike_to_olin()\n",
    "print( bikeshare.olin, bikeshare.wellesley )"
   ]
  },
  {
   "cell_type": "code",
   "execution_count": 16,
   "metadata": {},
   "outputs": [],
   "source": [
    "#return a T/F bool result with a given probability\n",
    "import random\n",
    "\n",
    "def flip( probability ):\n",
    "    return random.random() < probability"
   ]
  },
  {
   "cell_type": "code",
   "execution_count": 17,
   "metadata": {},
   "outputs": [
    {
     "name": "stdout",
     "output_type": "stream",
     "text": [
      "heads\n"
     ]
    }
   ],
   "source": [
    "if flip( 0.5 ): #fair coin flip\n",
    "    print( 'heads' )\n",
    "else:\n",
    "    print( 'tails' )\n",
    "        "
   ]
  },
  {
   "cell_type": "code",
   "execution_count": 18,
   "metadata": {},
   "outputs": [],
   "source": [
    "#simulate a time step of one minute\n",
    "#the chance that a student arrives during a one minute periodis 50% at Wellesley\n",
    "# \" ... \" 33% at Olin\n",
    "def step():\n",
    "    if flip( 0.5 ):\n",
    "        bike_to_wellesley()\n",
    "    if flip( 0.33 ):\n",
    "        bike_to_olin()"
   ]
  },
  {
   "cell_type": "code",
   "execution_count": 19,
   "metadata": {},
   "outputs": [
    {
     "name": "stdout",
     "output_type": "stream",
     "text": [
      "a bike goes to Wellesley\n"
     ]
    },
    {
     "data": {
      "text/plain": [
       "{'wellesley': 4, 'olin': 8}"
      ]
     },
     "execution_count": 19,
     "metadata": {},
     "output_type": "execute_result"
    }
   ],
   "source": [
    "step()\n",
    "vars( bikeshare )"
   ]
  },
  {
   "cell_type": "markdown",
   "metadata": {},
   "source": [
    "**Generalization** adding parameters to a function is called generalization because it makes the function more general, that is, less specialized."
   ]
  },
  {
   "cell_type": "code",
   "execution_count": 20,
   "metadata": {},
   "outputs": [],
   "source": [
    "#the probabilities might change. let's rewrite the step fxn to take the propabilities as parameters\n",
    "def step( p1, p2 ):\n",
    "    if flip( p1 ):\n",
    "        bike_to_wellesley()\n",
    "    if flip( p2 ):\n",
    "        bike_to_olin()    "
   ]
  },
  {
   "cell_type": "code",
   "execution_count": 21,
   "metadata": {},
   "outputs": [],
   "source": [
    "step( 0.7, 0.2 )"
   ]
  },
  {
   "cell_type": "code",
   "execution_count": 22,
   "metadata": {},
   "outputs": [
    {
     "name": "stdout",
     "output_type": "stream",
     "text": [
      "a bike goes to Wellesley\n",
      "a bike goes to Wellesley\n",
      "a bike goes to Wellesley\n",
      "a bike goes to Wellesley\n"
     ]
    }
   ],
   "source": [
    "for i in range( 4 ):\n",
    "    bike_to_wellesley()"
   ]
  },
  {
   "cell_type": "code",
   "execution_count": 23,
   "metadata": {},
   "outputs": [
    {
     "data": {
      "text/plain": [
       "{'wellesley': 8, 'olin': 4}"
      ]
     },
     "execution_count": 23,
     "metadata": {},
     "output_type": "execute_result"
    }
   ],
   "source": [
    "vars( bikeshare )"
   ]
  },
  {
   "cell_type": "code",
   "execution_count": 24,
   "metadata": {},
   "outputs": [
    {
     "data": {
      "text/plain": [
       "array([[0., 0.],\n",
       "       [0., 0.]])"
      ]
     },
     "execution_count": 24,
     "metadata": {},
     "output_type": "execute_result"
    }
   ],
   "source": [
    "np.zeros((2,2))"
   ]
  },
  {
   "cell_type": "code",
   "execution_count": 25,
   "metadata": {},
   "outputs": [
    {
     "name": "stdout",
     "output_type": "stream",
     "text": [
      "a bike goes to Olin\n",
      "a bike goes to Olin\n",
      "a bike goes to Olin\n",
      "a bike goes to Wellesley\n",
      "a bike goes to Wellesley\n",
      "a bike goes to Olin\n",
      "a bike goes to Olin\n",
      "a bike goes to Olin\n",
      "a bike goes to Olin\n",
      "a bike goes to Olin\n",
      "a bike goes to Wellesley\n",
      "a bike goes to Wellesley\n",
      "a bike goes to Wellesley\n",
      "a bike goes to Wellesley\n",
      "a bike goes to Olin\n",
      "a bike goes to Wellesley\n",
      "a bike goes to Wellesley\n",
      "a bike goes to Olin\n"
     ]
    }
   ],
   "source": [
    "bikeshare.wellesley = 20\n",
    "bikeshare.olin = 20\n",
    "num_step = 30\n",
    "\n",
    "rOlin = pd.Series(np.zeros(num_step))\n",
    "rWellesley = pd.Series(np.zeros(num_step))\n",
    "\n",
    "for i in range( num_step ):\n",
    "    step( 0.3, 0.2 )\n",
    "    rOlin[i] = bikeshare.olin\n",
    "    rWellesley[i] = bikeshare.wellesley"
   ]
  },
  {
   "cell_type": "code",
   "execution_count": 26,
   "metadata": {},
   "outputs": [
    {
     "name": "stdout",
     "output_type": "stream",
     "text": [
      "Olin mean =  22.9\n",
      "Wellesley mean =  17.1\n"
     ]
    }
   ],
   "source": [
    "print( 'Olin mean = ', str( rOlin.mean() ) )\n",
    "print( 'Wellesley mean = ', str( rWellesley.mean() ) )"
   ]
  },
  {
   "cell_type": "code",
   "execution_count": 27,
   "metadata": {},
   "outputs": [],
   "source": [
    "data = {'Olin':rOlin, 'Wellesley':rWellesley, 'x':range(num_step)}\n",
    "df = pd.DataFrame( data )"
   ]
  },
  {
   "cell_type": "code",
   "execution_count": 28,
   "metadata": {},
   "outputs": [
    {
     "data": {
      "text/plain": [
       "Text(0, 0.5, 'Number of Bikes')"
      ]
     },
     "execution_count": 28,
     "metadata": {},
     "output_type": "execute_result"
    },
    {
     "data": {
      "image/png": "[encoded data removed]",
      "text/plain": [
       "<Figure size 432x288 with 1 Axes>"
      ]
     },
     "metadata": {
      "needs_background": "light"
     },
     "output_type": "display_data"
    }
   ],
   "source": [
    "# multiple line plot\n",
    "import matplotlib.pyplot as plt\n",
    "\n",
    "plt.plot( 'x', 'Olin', data=df, marker='', color='mediumslateblue', linewidth=2, label=\"Olin\")\n",
    "plt.plot( 'x', 'Wellesley', data=df, marker='', color='mediumorchid', linewidth=2, label=\"Wellesley\")\n",
    "plt.legend()\n",
    "plt.title('Bikeshare Data')\n",
    "plt.xlabel('Days')\n",
    "plt.ylabel('Number of Bikes')\n"
   ]
  },
  {
   "cell_type": "markdown",
   "metadata": {},
   "source": [
    "## Iterative Modeling\n",
    "\n",
    "The process we use to make models less wrong\n",
    "**iterative modeling** identifying important problems, making improvements, and repeating the process. It often takes several iterations to develop a model that is good enough for the inteded purpose, but no more complicated than necessary."
   ]
  },
  {
   "cell_type": "code",
   "execution_count": 29,
   "metadata": {},
   "outputs": [],
   "source": [
    "def bike_to_wellesley( state ):\n",
    "    state.olin -= 1\n",
    "    state.wellesley += 1"
   ]
  },
  {
   "cell_type": "code",
   "execution_count": 30,
   "metadata": {},
   "outputs": [],
   "source": [
    "bike_to_wellesley( bikeshare )"
   ]
  },
  {
   "cell_type": "markdown",
   "metadata": {},
   "source": [
    "Now we  can create as many `State` objects as we want & update them independently:"
   ]
  },
  {
   "cell_type": "code",
   "execution_count": 31,
   "metadata": {},
   "outputs": [
    {
     "name": "stdout",
     "output_type": "stream",
     "text": [
      "{'wellesley': 2, 'olin': 10, 'wellesley_empty': 0, 'olin_empty': 0}\n",
      "{'wellesley': 10, 'olin': 2, 'wellesley_empty': 0, 'olin_empty': 0}\n"
     ]
    }
   ],
   "source": [
    "bikeshare1 = State( )\n",
    "bikeshare1.wellesley = 2\n",
    "bikeshare1.olin = 10\n",
    "bikeshare1.wellesley_empty = 0\n",
    "bikeshare1.olin_empty = 0\n",
    "print( vars( bikeshare1 ) )\n",
    "bikeshare2 = State( )\n",
    "bikeshare2.wellesley = 10\n",
    "bikeshare2.olin = 2\n",
    "bikeshare2.wellesley_empty = 0\n",
    "bikeshare2.olin_empty = 0\n",
    "print( vars( bikeshare2 ) )"
   ]
  },
  {
   "cell_type": "code",
   "execution_count": 32,
   "metadata": {},
   "outputs": [
    {
     "name": "stdout",
     "output_type": "stream",
     "text": [
      "{'wellesley': 3, 'olin': 9, 'wellesley_empty': 0, 'olin_empty': 0}\n",
      "{'wellesley': 11, 'olin': 1, 'wellesley_empty': 0, 'olin_empty': 0}\n"
     ]
    }
   ],
   "source": [
    "bike_to_wellesley( bikeshare1 )\n",
    "bike_to_wellesley( bikeshare2 )\n",
    "print( vars( bikeshare1 ) )\n",
    "print( vars( bikeshare2 ) )"
   ]
  },
  {
   "cell_type": "markdown",
   "metadata": {},
   "source": [
    "### Documentation\n",
    "\n",
    "**docstrings** a string in triple-quotes that appears at the beginning of a function and information on how to use the function:\n",
    "1. The first line is a single sentence that describes what the fxn does\n",
    "2. The following lines tell what each of the parameters are\n",
    "\n",
    "**comments** use liberally to explain something that would not be obvious to somene reading the program."
   ]
  },
  {
   "cell_type": "code",
   "execution_count": 33,
   "metadata": {},
   "outputs": [],
   "source": [
    "def bike_to_olin( state ):\n",
    "    \"\"\"Move one bike from Wellesley to Olin.\n",
    "    \n",
    "    state: State object\"\"\"\n",
    "    #We decrease one state variable and increase the other,\n",
    "    #so the total number of bikes is unchanged.\n",
    "    if state.wellesley == 0:\n",
    "        state.wellesley_empty += 1\n",
    "        return\n",
    "    state.wellesley -= 1\n",
    "    state.olin += 1"
   ]
  },
  {
   "cell_type": "code",
   "execution_count": 34,
   "metadata": {},
   "outputs": [],
   "source": [
    "def bike_to_wellesley( state ):\n",
    "    \"\"\"Move one bike from Olin to Wellesley.\n",
    "    \n",
    "    state: State object\"\"\"\n",
    "    #We decrease one state variable and increase the other,\n",
    "    #so the total number of bikes is unchanged.\n",
    "    if state.olin == 0:\n",
    "        state.olin_empty += 1\n",
    "        return\n",
    "    state.wellesley += 1\n",
    "    state.olin -= 1"
   ]
  },
  {
   "cell_type": "markdown",
   "metadata": {},
   "source": [
    "Python Comparison Operators\n",
    "\n",
    "|       Operation       | Symbol |\n",
    "|:---------------------:|:------:|\n",
    "|       Less than       |    <   |\n",
    "|      Greater than     |    >   |\n",
    "|   Less than or equal  |   <=   |\n",
    "| Greater than or equal |   >=   |\n",
    "|         Equal         |   ==   |\n",
    "|       Not equal       |   !=   |"
   ]
  },
  {
   "cell_type": "markdown",
   "metadata": {},
   "source": [
    "### Metrics\n",
    "\n",
    "**stochastic** events are random  \n",
    "**deterministic** events do the same thing every time they run"
   ]
  },
  {
   "cell_type": "code",
   "execution_count": 35,
   "metadata": {},
   "outputs": [],
   "source": [
    "def run_simulation( state, p1, p2, num_steps ):\n",
    "    \"\"\"Simulate the given number of time steps\n",
    "    state: State Object\n",
    "    p1: probability of Olin->Wellesley customer arrival\n",
    "    p2: probability of Wellesley->Olin customer arrival\n",
    "    num_steps: number of time steps\n",
    "    \"\"\"\n",
    "    rOlin = pd.Series(np.zeros(num_step))\n",
    "    rWellesley = pd.Series(np.zeros(num_step))\n",
    "\n",
    "    for i in range( num_step ):\n",
    "        step( state, p1, p2 )\n",
    "        rOlin[i] = state.olin\n",
    "        rWellesley[i] = state.wellesley\n",
    "        \n",
    "    plt.plot(rOlin, label= ' Olin ' )  \n",
    "    plt.plot(rWellesley, label= ' Wellesley ' )  \n",
    "        \n",
    "\n",
    "def step( state, p1, p2 ):\n",
    "    \"\"\"simulate a single time step\n",
    "    state: State Object\n",
    "    p1: probability of Olin->Wellesley customer arrival\n",
    "    p2: probability of Wellesley->Olin customer arrival\n",
    "    \"\"\"\n",
    "    if flip( p1 ):\n",
    "        bike_to_wellesley( state )\n",
    "    if flip( p2 ):\n",
    "        bike_to_olin( state )         "
   ]
  },
  {
   "cell_type": "code",
   "execution_count": 36,
   "metadata": {},
   "outputs": [
    {
     "name": "stdout",
     "output_type": "stream",
     "text": [
      "initial state:  {'wellesley': 2, 'olin': 50, 'wellesley_empty': 0, 'olin_empty': 0}\n"
     ]
    },
    {
     "data": {
      "image/png": "[encoded data removed]",
      "text/plain": [
       "<Figure size 432x288 with 1 Axes>"
      ]
     },
     "metadata": {
      "needs_background": "light"
     },
     "output_type": "display_data"
    }
   ],
   "source": [
    "bikeshare1 = State( )\n",
    "bikeshare1.wellesley = 2\n",
    "bikeshare1.olin = 50\n",
    "bikeshare1.wellesley_empty = 0\n",
    "bikeshare1.olin_empty = 0\n",
    "print( 'initial state: ', vars( bikeshare1 ) )\n",
    "\n",
    "run_simulation( bikeshare1, 0.1, 0.8, 200 )"
   ]
  },
  {
   "cell_type": "code",
   "execution_count": 37,
   "metadata": {},
   "outputs": [
    {
     "name": "stdout",
     "output_type": "stream",
     "text": [
      "0 20\n"
     ]
    }
   ],
   "source": [
    "print( bikeshare1.olin_empty, bikeshare1.wellesley_empty )"
   ]
  },
  {
   "cell_type": "markdown",
   "metadata": {},
   "source": [
    "because this little simulation is stochastic, the results are different every time they are run."
   ]
  },
  {
   "cell_type": "markdown",
   "metadata": {},
   "source": [
    " "
   ]
  },
  {
   "cell_type": "markdown",
   "metadata": {},
   "source": [
    "## Sweeping Parameters\n"
   ]
  },
  {
   "cell_type": "code",
   "execution_count": 45,
   "metadata": {},
   "outputs": [],
   "source": [
    "def run_simulation( p1, p2, num_steps ):\n",
    "    \"\"\"Simulate the given number of time steps\n",
    "    p1: probability of Olin->Wellesley customer arrival\n",
    "    p2: probability of Wellesley->Olin customer arrival\n",
    "    num_steps: number of time steps\n",
    "    \"\"\"\n",
    "    state = State( )\n",
    "    state.wellesley = 2\n",
    "    state.olin = 10\n",
    "    state.wellesley_empty = 0\n",
    "    state.olin_empty = 0\n",
    "\n",
    "    for i in range( num_step ):\n",
    "        step( state, p1, p2 ) \n",
    "        \n",
    "    return state    "
   ]
  },
  {
   "cell_type": "code",
   "execution_count": 46,
   "metadata": {},
   "outputs": [],
   "source": [
    "state = run_simulation( 0.2, 0.4, 20 )"
   ]
  },
  {
   "cell_type": "code",
   "execution_count": 48,
   "metadata": {},
   "outputs": [
    {
     "name": "stdout",
     "output_type": "stream",
     "text": [
      "0 9\n"
     ]
    }
   ],
   "source": [
    "print( state.olin_empty, state.wellesley_empty )"
   ]
  },
  {
   "cell_type": "code",
   "execution_count": 50,
   "metadata": {},
   "outputs": [
    {
     "name": "stdout",
     "output_type": "stream",
     "text": [
      "0.0\n",
      "0.25\n",
      "0.5\n",
      "0.75\n",
      "1.0\n"
     ]
    }
   ],
   "source": [
    "#using linspace\n",
    "p1_array = np.linspace( 0, 1, 5 )\n",
    "\n",
    "for p1 in p1_array:\n",
    "    print( p1 )"
   ]
  },
  {
   "cell_type": "markdown",
   "metadata": {},
   "source": [
    "**Sweeping a Parameter:** run simulations as a function of a range of values for one parameter to observe the effects on a different parameter."
   ]
  },
  {
   "cell_type": "code",
   "execution_count": 51,
   "metadata": {},
   "outputs": [
    {
     "name": "stdout",
     "output_type": "stream",
     "text": [
      "0.0 0\n",
      "0.1 0\n",
      "0.2 0\n",
      "0.30000000000000004 0\n",
      "0.4 0\n",
      "0.5 1\n",
      "0.6000000000000001 4\n",
      "0.7000000000000001 7\n",
      "0.8 8\n",
      "0.9 12\n",
      "1.0 18\n"
     ]
    }
   ],
   "source": [
    "p1_array = np.linspace( 0,1,11 )\n",
    "p2 = 0.2\n",
    "num_steps = 60\n",
    "\n",
    "for p1 in p1_array:\n",
    "    state = run_simulation( p1, p2, num_steps )\n",
    "    print( p1, state.olin_empty )"
   ]
  },
  {
   "cell_type": "code",
   "execution_count": 57,
   "metadata": {},
   "outputs": [
    {
     "data": {
      "text/plain": [
       "[<matplotlib.lines.Line2D at 0x7f1954c31c10>]"
      ]
     },
     "execution_count": 57,
     "metadata": {},
     "output_type": "execute_result"
    },
    {
     "data": {
      "image/png": "[encoded data removed]",
      "text/plain": [
       "<Figure size 432x288 with 1 Axes>"
      ]
     },
     "metadata": {
      "needs_background": "light"
     },
     "output_type": "display_data"
    }
   ],
   "source": [
    "sweep_p1 = pd.Series(np.zeros(len(p1_array)))\n",
    "\n",
    "for p1 in p1_array:\n",
    "    state = run_simulation( p1, p2, num_steps )\n",
    "    sweep_p1[p1] = state.olin_empty\n",
    "    \n",
    "plt.plot( sweep_p1, label=\"Olin\")    "
   ]
  },
  {
   "cell_type": "markdown",
   "metadata": {},
   "source": [
    "### Incremental Development\n",
    "\n",
    "1. Always start with a working program. Run it and confirm that it does what you'd like\n",
    "2. Make one small testable change at a time. Check by rerunning the program\n",
    "3. Does the program run? If so, move on to the next change to be made. If not, go back and debug.\n",
    "4. Sometimes you have to write extra code to verify/visualize that the changes you made work. such code is called **scaffolding**"
   ]
  },
  {
   "cell_type": "markdown",
   "metadata": {},
   "source": [
    " "
   ]
  },
  {
   "cell_type": "markdown",
   "metadata": {},
   "source": [
    "## World Population\n",
    "\n",
    "try to explain world population growth since 1950 and generate predictions for the next 50-100 years."
   ]
  }
 ],
 "metadata": {
  "kernelspec": {
   "display_name": "Python 3",
   "language": "python",
   "name": "python3"
  },
  "language_info": {
   "codemirror_mode": {
    "name": "ipython",
    "version": 3
   },
   "file_extension": ".py",
   "mimetype": "text/x-python",
   "name": "python",
   "nbconvert_exporter": "python",
   "pygments_lexer": "ipython3",
   "version": "3.7.6"
  }
 },
 "nbformat": 4,
 "nbformat_minor": 4
}
