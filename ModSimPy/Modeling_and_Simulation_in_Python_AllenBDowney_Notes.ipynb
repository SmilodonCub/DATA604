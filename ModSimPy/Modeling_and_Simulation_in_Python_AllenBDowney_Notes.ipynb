{
 "cells": [
  {
   "cell_type": "markdown",
   "metadata": {},
   "source": [
    "# Modeling and Simulation in Python\n",
    "Allen B Downey\n",
    "\n",
    "Working through this book. Notes from reading and example code. Implementing things without using the class package."
   ]
  },
  {
   "cell_type": "markdown",
   "metadata": {},
   "source": [
    " "
   ]
  },
  {
   "cell_type": "markdown",
   "metadata": {},
   "source": [
    "## Intro\n",
    "\n",
    "**This book's immediate goal:** writing simulations of physical systems"
   ]
  },
  {
   "cell_type": "code",
   "execution_count": 1,
   "metadata": {},
   "outputs": [],
   "source": [
    "import numpy as np\n",
    "import scipy as sp\n",
    "import matplotlib as plt\n",
    "import pandas as pd\n",
    "import sympy as sym\n",
    "import pint as pt"
   ]
  },
  {
   "cell_type": "markdown",
   "metadata": {},
   "source": [
    " "
   ]
  },
  {
   "cell_type": "markdown",
   "metadata": {},
   "source": [
    "## Modeling\n",
    "\n",
    "*All models are wrong, but some are useful*\n",
    "    -George Box\n",
    "\n",
    "**abstraction:** deciding what details can be left out\n",
    "**a model** description of a system that includes only the features we think are essential. the goal of the modeling process is to find the model best suited to its purpose (prediction, explanation, or design)\n",
    "\n",
    "**often a simple model is better.** if we include only the essential features and leave out the rest,we get models that are easier to work with, and the explanations they provide can be cleaer and more compelling. start with a simple model, even if it is too simple, and test whether it is good enough  for its purpose.\n"
   ]
  },
  {
   "cell_type": "code",
   "execution_count": 2,
   "metadata": {},
   "outputs": [
    {
     "name": "stdout",
     "output_type": "stream",
     "text": [
      "9.8 meter / second ** 2\n",
      "meter / second ** 2\n",
      "[length] / [time] ** 2\n"
     ]
    }
   ],
   "source": [
    "from pint import UnitRegistry\n",
    "unitsR = UnitRegistry()\n",
    "\n",
    "#penny falling from the empire state building\n",
    "a = 9.8 * unitsR.meter / unitsR.second**2\n",
    "print( a )\n",
    "print( a.units )\n",
    "print( a.dimensionality )"
   ]
  },
  {
   "cell_type": "code",
   "execution_count": 3,
   "metadata": {},
   "outputs": [
    {
     "name": "stdout",
     "output_type": "stream",
     "text": [
      "86.42 meter / second\n"
     ]
    }
   ],
   "source": [
    "h = 381 * unitsR.meter\n",
    "t = np.sqrt( 2 * h / a )\n",
    "v = round( a * t, 2 )\n",
    "print( v )"
   ]
  },
  {
   "cell_type": "code",
   "execution_count": 4,
   "metadata": {},
   "outputs": [
    {
     "data": {
      "text/html": [
       "\\[193.32\\ mile/hour\\]"
      ],
      "text/latex": [
       "$193.32\\ \\frac{\\mathrm{mile}}{\\mathrm{hour}}$"
      ],
      "text/plain": [
       "193.32 <Unit('mile / hour')>"
      ]
     },
     "execution_count": 4,
     "metadata": {},
     "output_type": "execute_result"
    }
   ],
   "source": [
    "#convert to miles/hour\n",
    "mile = unitsR.mile\n",
    "hour = unitsR.hour\n",
    "round( v.to(mile/hour), 2 )"
   ]
  },
  {
   "cell_type": "code",
   "execution_count": 5,
   "metadata": {},
   "outputs": [],
   "source": [
    "#if same dimensionality, will convert to units of first variable\n",
    "foot = unitsR.foot\n",
    "pole_height = 10 * foot"
   ]
  },
  {
   "cell_type": "code",
   "execution_count": 6,
   "metadata": {},
   "outputs": [
    {
     "data": {
      "text/html": [
       "\\[1260.0\\ foot\\]"
      ],
      "text/latex": [
       "$1260.0\\ \\mathrm{foot}$"
      ],
      "text/plain": [
       "1260.0 <Unit('foot')>"
      ]
     },
     "execution_count": 6,
     "metadata": {},
     "output_type": "execute_result"
    }
   ],
   "source": [
    "pole_height + h"
   ]
  },
  {
   "cell_type": "code",
   "execution_count": 7,
   "metadata": {},
   "outputs": [
    {
     "data": {
      "text/html": [
       "\\[384.048\\ meter\\]"
      ],
      "text/latex": [
       "$384.048\\ \\mathrm{meter}$"
      ],
      "text/plain": [
       "384.048 <Unit('meter')>"
      ]
     },
     "execution_count": 7,
     "metadata": {},
     "output_type": "execute_result"
    }
   ],
   "source": [
    "h + pole_height"
   ]
  },
  {
   "cell_type": "code",
   "execution_count": 8,
   "metadata": {},
   "outputs": [
    {
     "data": {
      "text/html": [
       "\\[22.085034013605444\\ second\\]"
      ],
      "text/latex": [
       "$22.085034013605444\\ \\mathrm{second}$"
      ],
      "text/plain": [
       "22.085034013605444 <Unit('second')>"
      ]
     },
     "execution_count": 8,
     "metadata": {},
     "output_type": "execute_result"
    }
   ],
   "source": [
    "#but what about terminal velocity?\n",
    "#How long will it take a penny to land from the top of the \n",
    "#empire state building when we take into account that the penny \n",
    "#reaches a terminal velocity of 18 meters/second?\n",
    "meter = unitsR.meter\n",
    "second = unitsR.second\n",
    "\n",
    "# How long until the penny reaches 18 m/s with constant acceleration a.\n",
    "termV = 18 * meter / second\n",
    "time2termV = termV / a\n",
    "\n",
    "# How far would the penny fall during that time?\n",
    "dist2termV = a * time2termV**2 / 2\n",
    "\n",
    "# How long to fall the remaining distance \n",
    "#with constant velocity 18 m/s?\n",
    "remainingDist = h - dist2termV\n",
    "timeRemainingDist = remainingDist / termV\n",
    "\n",
    "# STotal time for penny to fall 381 m\n",
    "totalTime = time2termV + timeRemainingDist\n",
    "totalTime"
   ]
  },
  {
   "cell_type": "markdown",
   "metadata": {},
   "source": [
    " "
   ]
  },
  {
   "cell_type": "markdown",
   "metadata": {},
   "source": [
    "## Bike Share \n",
    "\n",
    "a simple model of a bike share system."
   ]
  },
  {
   "cell_type": "code",
   "execution_count": 6,
   "metadata": {},
   "outputs": [],
   "source": [
    "#define a state object to collect state variables to simulate the bikes at each location\n",
    "class State(object):\n",
    "    olin = 0\n",
    "    wellesley = 0   "
   ]
  },
  {
   "cell_type": "code",
   "execution_count": 10,
   "metadata": {},
   "outputs": [],
   "source": [
    "#an instance \n",
    "bikeshare = State( )"
   ]
  },
  {
   "cell_type": "code",
   "execution_count": 11,
   "metadata": {},
   "outputs": [
    {
     "data": {
      "text/plain": [
       "{'wellesley': 2, 'olin': 10}"
      ]
     },
     "execution_count": 11,
     "metadata": {},
     "output_type": "execute_result"
    }
   ],
   "source": [
    "bikeshare.wellesley = 2\n",
    "bikeshare.olin = 10\n",
    "vars( bikeshare )"
   ]
  },
  {
   "cell_type": "code",
   "execution_count": 12,
   "metadata": {},
   "outputs": [
    {
     "data": {
      "text/plain": [
       "{'wellesley': 3, 'olin': 9}"
      ]
     },
     "execution_count": 12,
     "metadata": {},
     "output_type": "execute_result"
    }
   ],
   "source": [
    "#a student moves a bike from olin to wellesley\n",
    "bikeshare.olin -= 1\n",
    "bikeshare.wellesley += 1\n",
    "vars( bikeshare )"
   ]
  },
  {
   "cell_type": "code",
   "execution_count": 13,
   "metadata": {},
   "outputs": [],
   "source": [
    "#def a fxn to move a bike from olin to welesley & vice versa\n",
    "def bike_to_wellesley():\n",
    "    print( 'a bike goes to Wellesley' )\n",
    "    bikeshare.olin -= 1\n",
    "    bikeshare.wellesley += 1\n",
    "    \n",
    "def bike_to_olin():\n",
    "    print( 'a bike goes to Olin' )\n",
    "    bikeshare.olin += 1\n",
    "    bikeshare.wellesley -= 1"
   ]
  },
  {
   "cell_type": "code",
   "execution_count": 14,
   "metadata": {},
   "outputs": [
    {
     "name": "stdout",
     "output_type": "stream",
     "text": [
      "9 3\n",
      "a bike goes to Wellesley\n",
      "8 4\n"
     ]
    }
   ],
   "source": [
    "print( bikeshare.olin, bikeshare.wellesley )\n",
    "bike_to_wellesley()\n",
    "print( bikeshare.olin, bikeshare.wellesley )"
   ]
  },
  {
   "cell_type": "code",
   "execution_count": 15,
   "metadata": {},
   "outputs": [
    {
     "name": "stdout",
     "output_type": "stream",
     "text": [
      "8 4\n",
      "a bike goes to Olin\n",
      "9 3\n"
     ]
    }
   ],
   "source": [
    "print( bikeshare.olin, bikeshare.wellesley )\n",
    "bike_to_olin()\n",
    "print( bikeshare.olin, bikeshare.wellesley )"
   ]
  },
  {
   "cell_type": "code",
   "execution_count": 16,
   "metadata": {},
   "outputs": [],
   "source": [
    "#return a T/F bool result with a given probability\n",
    "import random\n",
    "\n",
    "def flip( probability ):\n",
    "    return random.random() < probability"
   ]
  },
  {
   "cell_type": "code",
   "execution_count": 17,
   "metadata": {},
   "outputs": [
    {
     "name": "stdout",
     "output_type": "stream",
     "text": [
      "heads\n"
     ]
    }
   ],
   "source": [
    "if flip( 0.5 ): #fair coin flip\n",
    "    print( 'heads' )\n",
    "else:\n",
    "    print( 'tails' )\n",
    "        "
   ]
  },
  {
   "cell_type": "code",
   "execution_count": 18,
   "metadata": {},
   "outputs": [],
   "source": [
    "#simulate a time step of one minute\n",
    "#the chance that a student arrives during a one minute periodis 50% at Wellesley\n",
    "# \" ... \" 33% at Olin\n",
    "def step():\n",
    "    if flip( 0.5 ):\n",
    "        bike_to_wellesley()\n",
    "    if flip( 0.33 ):\n",
    "        bike_to_olin()"
   ]
  },
  {
   "cell_type": "code",
   "execution_count": 19,
   "metadata": {},
   "outputs": [
    {
     "data": {
      "text/plain": [
       "{'wellesley': 3, 'olin': 9}"
      ]
     },
     "execution_count": 19,
     "metadata": {},
     "output_type": "execute_result"
    }
   ],
   "source": [
    "step()\n",
    "vars( bikeshare )"
   ]
  },
  {
   "cell_type": "markdown",
   "metadata": {},
   "source": [
    "**Generalization** adding parameters to a function is called generalization because it makes the function more general, that is, less specialized."
   ]
  },
  {
   "cell_type": "code",
   "execution_count": 20,
   "metadata": {},
   "outputs": [],
   "source": [
    "#the probabilities might change. let's rewrite the step fxn to take the propabilities as parameters\n",
    "def step( p1, p2 ):\n",
    "    if flip( p1 ):\n",
    "        bike_to_wellesley()\n",
    "    if flip( p2 ):\n",
    "        bike_to_olin()    "
   ]
  },
  {
   "cell_type": "code",
   "execution_count": 21,
   "metadata": {},
   "outputs": [
    {
     "name": "stdout",
     "output_type": "stream",
     "text": [
      "a bike goes to Wellesley\n"
     ]
    }
   ],
   "source": [
    "step( 0.7, 0.2 )"
   ]
  },
  {
   "cell_type": "code",
   "execution_count": 22,
   "metadata": {},
   "outputs": [
    {
     "name": "stdout",
     "output_type": "stream",
     "text": [
      "a bike goes to Wellesley\n",
      "a bike goes to Wellesley\n",
      "a bike goes to Wellesley\n",
      "a bike goes to Wellesley\n"
     ]
    }
   ],
   "source": [
    "for i in range( 4 ):\n",
    "    bike_to_wellesley()"
   ]
  },
  {
   "cell_type": "code",
   "execution_count": 23,
   "metadata": {},
   "outputs": [
    {
     "data": {
      "text/plain": [
       "{'wellesley': 8, 'olin': 4}"
      ]
     },
     "execution_count": 23,
     "metadata": {},
     "output_type": "execute_result"
    }
   ],
   "source": [
    "vars( bikeshare )"
   ]
  },
  {
   "cell_type": "code",
   "execution_count": 24,
   "metadata": {},
   "outputs": [
    {
     "data": {
      "text/plain": [
       "array([[0., 0.],\n",
       "       [0., 0.]])"
      ]
     },
     "execution_count": 24,
     "metadata": {},
     "output_type": "execute_result"
    }
   ],
   "source": [
    "np.zeros((2,2))"
   ]
  },
  {
   "cell_type": "code",
   "execution_count": 25,
   "metadata": {},
   "outputs": [
    {
     "name": "stdout",
     "output_type": "stream",
     "text": [
      "a bike goes to Wellesley\n",
      "a bike goes to Olin\n",
      "a bike goes to Wellesley\n",
      "a bike goes to Olin\n",
      "a bike goes to Wellesley\n",
      "a bike goes to Wellesley\n",
      "a bike goes to Wellesley\n",
      "a bike goes to Olin\n",
      "a bike goes to Wellesley\n",
      "a bike goes to Olin\n",
      "a bike goes to Wellesley\n",
      "a bike goes to Wellesley\n",
      "a bike goes to Olin\n",
      "a bike goes to Wellesley\n",
      "a bike goes to Wellesley\n",
      "a bike goes to Wellesley\n",
      "a bike goes to Wellesley\n",
      "a bike goes to Olin\n"
     ]
    }
   ],
   "source": [
    "bikeshare.wellesley = 20\n",
    "bikeshare.olin = 20\n",
    "num_step = 30\n",
    "\n",
    "rOlin = pd.Series(np.zeros(num_step))\n",
    "rWellesley = pd.Series(np.zeros(num_step))\n",
    "\n",
    "for i in range( num_step ):\n",
    "    step( 0.3, 0.2 )\n",
    "    rOlin[i] = bikeshare.olin\n",
    "    rWellesley[i] = bikeshare.wellesley"
   ]
  },
  {
   "cell_type": "code",
   "execution_count": 26,
   "metadata": {},
   "outputs": [
    {
     "name": "stdout",
     "output_type": "stream",
     "text": [
      "Olin mean =  16.266666666666666\n",
      "Wellesley mean =  23.733333333333334\n"
     ]
    }
   ],
   "source": [
    "print( 'Olin mean = ', str( rOlin.mean() ) )\n",
    "print( 'Wellesley mean = ', str( rWellesley.mean() ) )"
   ]
  },
  {
   "cell_type": "code",
   "execution_count": 27,
   "metadata": {},
   "outputs": [],
   "source": [
    "data = {'Olin':rOlin, 'Wellesley':rWellesley, 'x':range(num_step)}\n",
    "df = pd.DataFrame( data )"
   ]
  },
  {
   "cell_type": "code",
   "execution_count": 13,
   "metadata": {},
   "outputs": [
    {
     "ename": "ValueError",
     "evalue": "Unrecognized character O in format string",
     "output_type": "error",
     "traceback": [
      "\u001b[0;31m---------------------------------------------------------------------------\u001b[0m",
      "\u001b[0;31mValueError\u001b[0m                                Traceback (most recent call last)",
      "\u001b[0;32m<ipython-input-13-fbacfc5d1726>\u001b[0m in \u001b[0;36m<module>\u001b[0;34m\u001b[0m\n\u001b[1;32m      2\u001b[0m \u001b[0;32mimport\u001b[0m \u001b[0mmatplotlib\u001b[0m\u001b[0;34m.\u001b[0m\u001b[0mpyplot\u001b[0m \u001b[0;32mas\u001b[0m \u001b[0mplt\u001b[0m\u001b[0;34m\u001b[0m\u001b[0;34m\u001b[0m\u001b[0m\n\u001b[1;32m      3\u001b[0m \u001b[0;34m\u001b[0m\u001b[0m\n\u001b[0;32m----> 4\u001b[0;31m \u001b[0mplt\u001b[0m\u001b[0;34m.\u001b[0m\u001b[0mplot\u001b[0m\u001b[0;34m(\u001b[0m \u001b[0;34m'x'\u001b[0m\u001b[0;34m,\u001b[0m \u001b[0;34m'Olin'\u001b[0m\u001b[0;34m,\u001b[0m \u001b[0mdata\u001b[0m\u001b[0;34m=\u001b[0m\u001b[0mdf\u001b[0m\u001b[0;34m,\u001b[0m \u001b[0mmarker\u001b[0m\u001b[0;34m=\u001b[0m\u001b[0;34m''\u001b[0m\u001b[0;34m,\u001b[0m \u001b[0mcolor\u001b[0m\u001b[0;34m=\u001b[0m\u001b[0;34m'mediumslateblue'\u001b[0m\u001b[0;34m,\u001b[0m \u001b[0mlinewidth\u001b[0m\u001b[0;34m=\u001b[0m\u001b[0;36m2\u001b[0m\u001b[0;34m,\u001b[0m \u001b[0mlabel\u001b[0m\u001b[0;34m=\u001b[0m\u001b[0;34m\"Olin\"\u001b[0m\u001b[0;34m)\u001b[0m\u001b[0;34m\u001b[0m\u001b[0;34m\u001b[0m\u001b[0m\n\u001b[0m\u001b[1;32m      5\u001b[0m \u001b[0mplt\u001b[0m\u001b[0;34m.\u001b[0m\u001b[0mplot\u001b[0m\u001b[0;34m(\u001b[0m \u001b[0;34m'x'\u001b[0m\u001b[0;34m,\u001b[0m \u001b[0;34m'Wellesley'\u001b[0m\u001b[0;34m,\u001b[0m \u001b[0mdata\u001b[0m\u001b[0;34m=\u001b[0m\u001b[0mdf\u001b[0m\u001b[0;34m,\u001b[0m \u001b[0mmarker\u001b[0m\u001b[0;34m=\u001b[0m\u001b[0;34m''\u001b[0m\u001b[0;34m,\u001b[0m \u001b[0mcolor\u001b[0m\u001b[0;34m=\u001b[0m\u001b[0;34m'mediumorchid'\u001b[0m\u001b[0;34m,\u001b[0m \u001b[0mlinewidth\u001b[0m\u001b[0;34m=\u001b[0m\u001b[0;36m2\u001b[0m\u001b[0;34m,\u001b[0m \u001b[0mlabel\u001b[0m\u001b[0;34m=\u001b[0m\u001b[0;34m\"Wellesley\"\u001b[0m\u001b[0;34m)\u001b[0m\u001b[0;34m\u001b[0m\u001b[0;34m\u001b[0m\u001b[0m\n\u001b[1;32m      6\u001b[0m \u001b[0mplt\u001b[0m\u001b[0;34m.\u001b[0m\u001b[0mlegend\u001b[0m\u001b[0;34m(\u001b[0m\u001b[0;34m)\u001b[0m\u001b[0;34m\u001b[0m\u001b[0;34m\u001b[0m\u001b[0m\n",
      "\u001b[0;32m~/anaconda3/lib/python3.7/site-packages/matplotlib/pyplot.py\u001b[0m in \u001b[0;36mplot\u001b[0;34m(scalex, scaley, data, *args, **kwargs)\u001b[0m\n\u001b[1;32m   2794\u001b[0m     return gca().plot(\n\u001b[1;32m   2795\u001b[0m         *args, scalex=scalex, scaley=scaley, **({\"data\": data} if data\n\u001b[0;32m-> 2796\u001b[0;31m         is not None else {}), **kwargs)\n\u001b[0m\u001b[1;32m   2797\u001b[0m \u001b[0;34m\u001b[0m\u001b[0m\n\u001b[1;32m   2798\u001b[0m \u001b[0;34m\u001b[0m\u001b[0m\n",
      "\u001b[0;32m~/anaconda3/lib/python3.7/site-packages/matplotlib/axes/_axes.py\u001b[0m in \u001b[0;36mplot\u001b[0;34m(self, scalex, scaley, data, *args, **kwargs)\u001b[0m\n\u001b[1;32m   1663\u001b[0m         \"\"\"\n\u001b[1;32m   1664\u001b[0m         \u001b[0mkwargs\u001b[0m \u001b[0;34m=\u001b[0m \u001b[0mcbook\u001b[0m\u001b[0;34m.\u001b[0m\u001b[0mnormalize_kwargs\u001b[0m\u001b[0;34m(\u001b[0m\u001b[0mkwargs\u001b[0m\u001b[0;34m,\u001b[0m \u001b[0mmlines\u001b[0m\u001b[0;34m.\u001b[0m\u001b[0mLine2D\u001b[0m\u001b[0;34m.\u001b[0m\u001b[0m_alias_map\u001b[0m\u001b[0;34m)\u001b[0m\u001b[0;34m\u001b[0m\u001b[0;34m\u001b[0m\u001b[0m\n\u001b[0;32m-> 1665\u001b[0;31m         \u001b[0mlines\u001b[0m \u001b[0;34m=\u001b[0m \u001b[0;34m[\u001b[0m\u001b[0;34m*\u001b[0m\u001b[0mself\u001b[0m\u001b[0;34m.\u001b[0m\u001b[0m_get_lines\u001b[0m\u001b[0;34m(\u001b[0m\u001b[0;34m*\u001b[0m\u001b[0margs\u001b[0m\u001b[0;34m,\u001b[0m \u001b[0mdata\u001b[0m\u001b[0;34m=\u001b[0m\u001b[0mdata\u001b[0m\u001b[0;34m,\u001b[0m \u001b[0;34m**\u001b[0m\u001b[0mkwargs\u001b[0m\u001b[0;34m)\u001b[0m\u001b[0;34m]\u001b[0m\u001b[0;34m\u001b[0m\u001b[0;34m\u001b[0m\u001b[0m\n\u001b[0m\u001b[1;32m   1666\u001b[0m         \u001b[0;32mfor\u001b[0m \u001b[0mline\u001b[0m \u001b[0;32min\u001b[0m \u001b[0mlines\u001b[0m\u001b[0;34m:\u001b[0m\u001b[0;34m\u001b[0m\u001b[0;34m\u001b[0m\u001b[0m\n\u001b[1;32m   1667\u001b[0m             \u001b[0mself\u001b[0m\u001b[0;34m.\u001b[0m\u001b[0madd_line\u001b[0m\u001b[0;34m(\u001b[0m\u001b[0mline\u001b[0m\u001b[0;34m)\u001b[0m\u001b[0;34m\u001b[0m\u001b[0;34m\u001b[0m\u001b[0m\n",
      "\u001b[0;32m~/anaconda3/lib/python3.7/site-packages/matplotlib/axes/_base.py\u001b[0m in \u001b[0;36m__call__\u001b[0;34m(self, *args, **kwargs)\u001b[0m\n\u001b[1;32m    223\u001b[0m                 \u001b[0mthis\u001b[0m \u001b[0;34m+=\u001b[0m \u001b[0margs\u001b[0m\u001b[0;34m[\u001b[0m\u001b[0;36m0\u001b[0m\u001b[0;34m]\u001b[0m\u001b[0;34m,\u001b[0m\u001b[0;34m\u001b[0m\u001b[0;34m\u001b[0m\u001b[0m\n\u001b[1;32m    224\u001b[0m                 \u001b[0margs\u001b[0m \u001b[0;34m=\u001b[0m \u001b[0margs\u001b[0m\u001b[0;34m[\u001b[0m\u001b[0;36m1\u001b[0m\u001b[0;34m:\u001b[0m\u001b[0;34m]\u001b[0m\u001b[0;34m\u001b[0m\u001b[0;34m\u001b[0m\u001b[0m\n\u001b[0;32m--> 225\u001b[0;31m             \u001b[0;32myield\u001b[0m \u001b[0;32mfrom\u001b[0m \u001b[0mself\u001b[0m\u001b[0;34m.\u001b[0m\u001b[0m_plot_args\u001b[0m\u001b[0;34m(\u001b[0m\u001b[0mthis\u001b[0m\u001b[0;34m,\u001b[0m \u001b[0mkwargs\u001b[0m\u001b[0;34m)\u001b[0m\u001b[0;34m\u001b[0m\u001b[0;34m\u001b[0m\u001b[0m\n\u001b[0m\u001b[1;32m    226\u001b[0m \u001b[0;34m\u001b[0m\u001b[0m\n\u001b[1;32m    227\u001b[0m     \u001b[0;32mdef\u001b[0m \u001b[0mget_next_color\u001b[0m\u001b[0;34m(\u001b[0m\u001b[0mself\u001b[0m\u001b[0;34m)\u001b[0m\u001b[0;34m:\u001b[0m\u001b[0;34m\u001b[0m\u001b[0;34m\u001b[0m\u001b[0m\n",
      "\u001b[0;32m~/anaconda3/lib/python3.7/site-packages/matplotlib/axes/_base.py\u001b[0m in \u001b[0;36m_plot_args\u001b[0;34m(self, tup, kwargs)\u001b[0m\n\u001b[1;32m    364\u001b[0m         \u001b[0mret\u001b[0m \u001b[0;34m=\u001b[0m \u001b[0;34m[\u001b[0m\u001b[0;34m]\u001b[0m\u001b[0;34m\u001b[0m\u001b[0;34m\u001b[0m\u001b[0m\n\u001b[1;32m    365\u001b[0m         \u001b[0;32mif\u001b[0m \u001b[0mlen\u001b[0m\u001b[0;34m(\u001b[0m\u001b[0mtup\u001b[0m\u001b[0;34m)\u001b[0m \u001b[0;34m>\u001b[0m \u001b[0;36m1\u001b[0m \u001b[0;32mand\u001b[0m \u001b[0misinstance\u001b[0m\u001b[0;34m(\u001b[0m\u001b[0mtup\u001b[0m\u001b[0;34m[\u001b[0m\u001b[0;34m-\u001b[0m\u001b[0;36m1\u001b[0m\u001b[0;34m]\u001b[0m\u001b[0;34m,\u001b[0m \u001b[0mstr\u001b[0m\u001b[0;34m)\u001b[0m\u001b[0;34m:\u001b[0m\u001b[0;34m\u001b[0m\u001b[0;34m\u001b[0m\u001b[0m\n\u001b[0;32m--> 366\u001b[0;31m             \u001b[0mlinestyle\u001b[0m\u001b[0;34m,\u001b[0m \u001b[0mmarker\u001b[0m\u001b[0;34m,\u001b[0m \u001b[0mcolor\u001b[0m \u001b[0;34m=\u001b[0m \u001b[0m_process_plot_format\u001b[0m\u001b[0;34m(\u001b[0m\u001b[0mtup\u001b[0m\u001b[0;34m[\u001b[0m\u001b[0;34m-\u001b[0m\u001b[0;36m1\u001b[0m\u001b[0;34m]\u001b[0m\u001b[0;34m)\u001b[0m\u001b[0;34m\u001b[0m\u001b[0;34m\u001b[0m\u001b[0m\n\u001b[0m\u001b[1;32m    367\u001b[0m             \u001b[0mtup\u001b[0m \u001b[0;34m=\u001b[0m \u001b[0mtup\u001b[0m\u001b[0;34m[\u001b[0m\u001b[0;34m:\u001b[0m\u001b[0;34m-\u001b[0m\u001b[0;36m1\u001b[0m\u001b[0;34m]\u001b[0m\u001b[0;34m\u001b[0m\u001b[0;34m\u001b[0m\u001b[0m\n\u001b[1;32m    368\u001b[0m         \u001b[0;32melif\u001b[0m \u001b[0mlen\u001b[0m\u001b[0;34m(\u001b[0m\u001b[0mtup\u001b[0m\u001b[0;34m)\u001b[0m \u001b[0;34m==\u001b[0m \u001b[0;36m3\u001b[0m\u001b[0;34m:\u001b[0m\u001b[0;34m\u001b[0m\u001b[0;34m\u001b[0m\u001b[0m\n",
      "\u001b[0;32m~/anaconda3/lib/python3.7/site-packages/matplotlib/axes/_base.py\u001b[0m in \u001b[0;36m_process_plot_format\u001b[0;34m(fmt)\u001b[0m\n\u001b[1;32m    104\u001b[0m         \u001b[0;32melse\u001b[0m\u001b[0;34m:\u001b[0m\u001b[0;34m\u001b[0m\u001b[0;34m\u001b[0m\u001b[0m\n\u001b[1;32m    105\u001b[0m             raise ValueError(\n\u001b[0;32m--> 106\u001b[0;31m                 'Unrecognized character %c in format string' % c)\n\u001b[0m\u001b[1;32m    107\u001b[0m \u001b[0;34m\u001b[0m\u001b[0m\n\u001b[1;32m    108\u001b[0m     \u001b[0;32mif\u001b[0m \u001b[0mlinestyle\u001b[0m \u001b[0;32mis\u001b[0m \u001b[0;32mNone\u001b[0m \u001b[0;32mand\u001b[0m \u001b[0mmarker\u001b[0m \u001b[0;32mis\u001b[0m \u001b[0;32mNone\u001b[0m\u001b[0;34m:\u001b[0m\u001b[0;34m\u001b[0m\u001b[0;34m\u001b[0m\u001b[0m\n",
      "\u001b[0;31mValueError\u001b[0m: Unrecognized character O in format string"
     ]
    },
    {
     "data": {
      "image/png": "[encoded data removed]",
      "text/plain": [
       "<Figure size 432x288 with 1 Axes>"
      ]
     },
     "metadata": {
      "needs_background": "light"
     },
     "output_type": "display_data"
    }
   ],
   "source": [
    "# multiple line plot\n",
    "import matplotlib.pyplot as plt\n",
    "\n",
    "plt.plot( 'x', 'Olin', data=df, marker='', color='mediumslateblue', linewidth=2, label=\"Olin\")\n",
    "plt.plot( 'x', 'Wellesley', data=df, marker='', color='mediumorchid', linewidth=2, label=\"Wellesley\")\n",
    "plt.legend()\n",
    "plt.title('Bikeshare Data')\n",
    "plt.xlabel('Days')\n",
    "plt.ylabel('Number of Bikes')\n"
   ]
  },
  {
   "cell_type": "markdown",
   "metadata": {},
   "source": [
    "## Iterative Modeling\n",
    "\n",
    "The process we use to make models less wrong\n",
    "**iterative modeling** identifying important problems, making improvements, and repeating the process. It often takes several iterations to develop a model that is good enough for the inteded purpose, but no more complicated than necessary."
   ]
  },
  {
   "cell_type": "code",
   "execution_count": 29,
   "metadata": {},
   "outputs": [],
   "source": [
    "def bike_to_wellesley( state ):\n",
    "    state.olin -= 1\n",
    "    state.wellesley += 1"
   ]
  },
  {
   "cell_type": "code",
   "execution_count": 30,
   "metadata": {},
   "outputs": [],
   "source": [
    "bike_to_wellesley( bikeshare )"
   ]
  },
  {
   "cell_type": "markdown",
   "metadata": {},
   "source": [
    "Now we  can create as many `State` objects as we want & update them independently:"
   ]
  },
  {
   "cell_type": "code",
   "execution_count": 31,
   "metadata": {},
   "outputs": [
    {
     "name": "stdout",
     "output_type": "stream",
     "text": [
      "{'wellesley': 2, 'olin': 10, 'wellesley_empty': 0, 'olin_empty': 0}\n",
      "{'wellesley': 10, 'olin': 2, 'wellesley_empty': 0, 'olin_empty': 0}\n"
     ]
    }
   ],
   "source": [
    "bikeshare1 = State( )\n",
    "bikeshare1.wellesley = 2\n",
    "bikeshare1.olin = 10\n",
    "bikeshare1.wellesley_empty = 0\n",
    "bikeshare1.olin_empty = 0\n",
    "print( vars( bikeshare1 ) )\n",
    "bikeshare2 = State( )\n",
    "bikeshare2.wellesley = 10\n",
    "bikeshare2.olin = 2\n",
    "bikeshare2.wellesley_empty = 0\n",
    "bikeshare2.olin_empty = 0\n",
    "print( vars( bikeshare2 ) )"
   ]
  },
  {
   "cell_type": "code",
   "execution_count": 32,
   "metadata": {},
   "outputs": [
    {
     "name": "stdout",
     "output_type": "stream",
     "text": [
      "{'wellesley': 3, 'olin': 9, 'wellesley_empty': 0, 'olin_empty': 0}\n",
      "{'wellesley': 11, 'olin': 1, 'wellesley_empty': 0, 'olin_empty': 0}\n"
     ]
    }
   ],
   "source": [
    "bike_to_wellesley( bikeshare1 )\n",
    "bike_to_wellesley( bikeshare2 )\n",
    "print( vars( bikeshare1 ) )\n",
    "print( vars( bikeshare2 ) )"
   ]
  },
  {
   "cell_type": "markdown",
   "metadata": {},
   "source": [
    "### Documentation\n",
    "\n",
    "**docstrings** a string in triple-quotes that appears at the beginning of a function and information on how to use the function:\n",
    "1. The first line is a single sentence that describes what the fxn does\n",
    "2. The following lines tell what each of the parameters are\n",
    "\n",
    "**comments** use liberally to explain something that would not be obvious to somene reading the program."
   ]
  },
  {
   "cell_type": "code",
   "execution_count": 33,
   "metadata": {},
   "outputs": [],
   "source": [
    "def bike_to_olin( state ):\n",
    "    \"\"\"Move one bike from Wellesley to Olin.\n",
    "    \n",
    "    state: State object\"\"\"\n",
    "    #We decrease one state variable and increase the other,\n",
    "    #so the total number of bikes is unchanged.\n",
    "    if state.wellesley == 0:\n",
    "        state.wellesley_empty += 1\n",
    "        return\n",
    "    state.wellesley -= 1\n",
    "    state.olin += 1"
   ]
  },
  {
   "cell_type": "code",
   "execution_count": 34,
   "metadata": {},
   "outputs": [],
   "source": [
    "def bike_to_wellesley( state ):\n",
    "    \"\"\"Move one bike from Olin to Wellesley.\n",
    "    \n",
    "    state: State object\"\"\"\n",
    "    #We decrease one state variable and increase the other,\n",
    "    #so the total number of bikes is unchanged.\n",
    "    if state.olin == 0:\n",
    "        state.olin_empty += 1\n",
    "        return\n",
    "    state.wellesley += 1\n",
    "    state.olin -= 1"
   ]
  },
  {
   "cell_type": "markdown",
   "metadata": {},
   "source": [
    "Python Comparison Operators\n",
    "\n",
    "|       Operation       | Symbol |\n",
    "|:---------------------:|:------:|\n",
    "|       Less than       |    <   |\n",
    "|      Greater than     |    >   |\n",
    "|   Less than or equal  |   <=   |\n",
    "| Greater than or equal |   >=   |\n",
    "|         Equal         |   ==   |\n",
    "|       Not equal       |   !=   |"
   ]
  },
  {
   "cell_type": "markdown",
   "metadata": {},
   "source": [
    "### Metrics\n",
    "\n",
    "**stochastic** events are random  \n",
    "**deterministic** events do the same thing every time they run"
   ]
  },
  {
   "cell_type": "code",
   "execution_count": 35,
   "metadata": {},
   "outputs": [],
   "source": [
    "def run_simulation( state, p1, p2, num_steps ):\n",
    "    \"\"\"Simulate the given number of time steps\n",
    "    state: State Object\n",
    "    p1: probability of Olin->Wellesley customer arrival\n",
    "    p2: probability of Wellesley->Olin customer arrival\n",
    "    num_steps: number of time steps\n",
    "    \"\"\"\n",
    "    rOlin = pd.Series(np.zeros(num_step))\n",
    "    rWellesley = pd.Series(np.zeros(num_step))\n",
    "\n",
    "    for i in range( num_step ):\n",
    "        step( state, p1, p2 )\n",
    "        rOlin[i] = state.olin\n",
    "        rWellesley[i] = state.wellesley\n",
    "        \n",
    "    plt.plot(rOlin, label= ' Olin ' )  \n",
    "    plt.plot(rWellesley, label= ' Wellesley ' )  \n",
    "        \n",
    "\n",
    "def step( state, p1, p2 ):\n",
    "    \"\"\"simulate a single time step\n",
    "    state: State Object\n",
    "    p1: probability of Olin->Wellesley customer arrival\n",
    "    p2: probability of Wellesley->Olin customer arrival\n",
    "    \"\"\"\n",
    "    if flip( p1 ):\n",
    "        bike_to_wellesley( state )\n",
    "    if flip( p2 ):\n",
    "        bike_to_olin( state )         "
   ]
  },
  {
   "cell_type": "code",
   "execution_count": 36,
   "metadata": {},
   "outputs": [
    {
     "name": "stdout",
     "output_type": "stream",
     "text": [
      "initial state:  {'wellesley': 2, 'olin': 50, 'wellesley_empty': 0, 'olin_empty': 0}\n"
     ]
    },
    {
     "data": {
      "image/png": "[encoded data removed]",
      "text/plain": [
       "<Figure size 432x288 with 1 Axes>"
      ]
     },
     "metadata": {
      "needs_background": "light"
     },
     "output_type": "display_data"
    }
   ],
   "source": [
    "bikeshare1 = State( )\n",
    "bikeshare1.wellesley = 2\n",
    "bikeshare1.olin = 50\n",
    "bikeshare1.wellesley_empty = 0\n",
    "bikeshare1.olin_empty = 0\n",
    "print( 'initial state: ', vars( bikeshare1 ) )\n",
    "\n",
    "run_simulation( bikeshare1, 0.1, 0.8, 200 )"
   ]
  },
  {
   "cell_type": "code",
   "execution_count": 37,
   "metadata": {},
   "outputs": [
    {
     "name": "stdout",
     "output_type": "stream",
     "text": [
      "0 15\n"
     ]
    }
   ],
   "source": [
    "print( bikeshare1.olin_empty, bikeshare1.wellesley_empty )"
   ]
  },
  {
   "cell_type": "markdown",
   "metadata": {},
   "source": [
    "because this little simulation is stochastic, the results are different every time they are run."
   ]
  },
  {
   "cell_type": "markdown",
   "metadata": {},
   "source": [
    " "
   ]
  },
  {
   "cell_type": "markdown",
   "metadata": {},
   "source": [
    "## Sweeping Parameters\n"
   ]
  },
  {
   "cell_type": "code",
   "execution_count": 38,
   "metadata": {},
   "outputs": [],
   "source": [
    "def run_simulation( p1, p2, num_steps ):\n",
    "    \"\"\"Simulate the given number of time steps\n",
    "    p1: probability of Olin->Wellesley customer arrival\n",
    "    p2: probability of Wellesley->Olin customer arrival\n",
    "    num_steps: number of time steps\n",
    "    \"\"\"\n",
    "    state = State( )\n",
    "    state.wellesley = 2\n",
    "    state.olin = 10\n",
    "    state.wellesley_empty = 0\n",
    "    state.olin_empty = 0\n",
    "\n",
    "    for i in range( num_step ):\n",
    "        step( state, p1, p2 ) \n",
    "        \n",
    "    return state    "
   ]
  },
  {
   "cell_type": "code",
   "execution_count": 39,
   "metadata": {},
   "outputs": [],
   "source": [
    "state = run_simulation( 0.2, 0.4, 20 )"
   ]
  },
  {
   "cell_type": "code",
   "execution_count": 40,
   "metadata": {},
   "outputs": [
    {
     "name": "stdout",
     "output_type": "stream",
     "text": [
      "0 0\n"
     ]
    }
   ],
   "source": [
    "print( state.olin_empty, state.wellesley_empty )"
   ]
  },
  {
   "cell_type": "code",
   "execution_count": 41,
   "metadata": {},
   "outputs": [
    {
     "name": "stdout",
     "output_type": "stream",
     "text": [
      "0.0\n",
      "0.25\n",
      "0.5\n",
      "0.75\n",
      "1.0\n"
     ]
    }
   ],
   "source": [
    "#using linspace\n",
    "p1_array = np.linspace( 0, 1, 5 )\n",
    "\n",
    "for p1 in p1_array:\n",
    "    print( p1 )"
   ]
  },
  {
   "cell_type": "markdown",
   "metadata": {},
   "source": [
    "**Sweeping a Parameter:** run simulations as a function of a range of values for one parameter to observe the effects on a different parameter."
   ]
  },
  {
   "cell_type": "code",
   "execution_count": 42,
   "metadata": {},
   "outputs": [
    {
     "name": "stdout",
     "output_type": "stream",
     "text": [
      "0.0 0\n",
      "0.1 0\n",
      "0.2 0\n",
      "0.30000000000000004 0\n",
      "0.4 0\n",
      "0.5 4\n",
      "0.6000000000000001 2\n",
      "0.7000000000000001 11\n",
      "0.8 12\n",
      "0.9 10\n",
      "1.0 15\n"
     ]
    }
   ],
   "source": [
    "p1_array = np.linspace( 0,1,11 )\n",
    "p2 = 0.2\n",
    "num_steps = 60\n",
    "\n",
    "for p1 in p1_array:\n",
    "    state = run_simulation( p1, p2, num_steps )\n",
    "    print( p1, state.olin_empty )"
   ]
  },
  {
   "cell_type": "code",
   "execution_count": 43,
   "metadata": {},
   "outputs": [
    {
     "data": {
      "text/plain": [
       "[<matplotlib.lines.Line2D at 0x7f40b3e09ed0>]"
      ]
     },
     "execution_count": 43,
     "metadata": {},
     "output_type": "execute_result"
    },
    {
     "data": {
      "image/png": "[encoded data removed]",
      "text/plain": [
       "<Figure size 432x288 with 1 Axes>"
      ]
     },
     "metadata": {
      "needs_background": "light"
     },
     "output_type": "display_data"
    }
   ],
   "source": [
    "sweep_p1 = pd.Series(np.zeros(len(p1_array)))\n",
    "\n",
    "for p1 in p1_array:\n",
    "    state = run_simulation( p1, p2, num_steps )\n",
    "    sweep_p1[p1] = state.olin_empty\n",
    "    \n",
    "plt.plot( sweep_p1, label=\"Olin\")    "
   ]
  },
  {
   "cell_type": "markdown",
   "metadata": {},
   "source": [
    "### Incremental Development\n",
    "\n",
    "1. Always start with a working program. Run it and confirm that it does what you'd like\n",
    "2. Make one small testable change at a time. Check by rerunning the program\n",
    "3. Does the program run? If so, move on to the next change to be made. If not, go back and debug.\n",
    "4. Sometimes you have to write extra code to verify/visualize that the changes you made work. such code is called **scaffolding**"
   ]
  },
  {
   "cell_type": "markdown",
   "metadata": {},
   "source": [
    " "
   ]
  },
  {
   "cell_type": "markdown",
   "metadata": {},
   "source": [
    "## World Population\n",
    "\n",
    "try to explain world population growth since 1950 and generate predictions for the next 50-100 years."
   ]
  },
  {
   "cell_type": "code",
   "execution_count": 2,
   "metadata": {},
   "outputs": [],
   "source": [
    "from pandas import read_html\n",
    "filename = '/home/bonzilla/Desktop/MSDS2020/DATA604_SimPy/ModSimPy/ModSimPy/notebooks/data/World_population_estimates.html'\n",
    "\n",
    "tables = read_html( filename, header=0, index_col=0, decimal = 'M')"
   ]
  },
  {
   "cell_type": "code",
   "execution_count": 45,
   "metadata": {},
   "outputs": [
    {
     "data": {
      "text/plain": [
       "6"
      ]
     },
     "execution_count": 45,
     "metadata": {},
     "output_type": "execute_result"
    }
   ],
   "source": [
    "len( tables )"
   ]
  },
  {
   "cell_type": "code",
   "execution_count": 3,
   "metadata": {},
   "outputs": [
    {
     "data": {
      "text/html": [
       "<div>\n",
       "<style scoped>\n",
       "    .dataframe tbody tr th:only-of-type {\n",
       "        vertical-align: middle;\n",
       "    }\n",
       "\n",
       "    .dataframe tbody tr th {\n",
       "        vertical-align: top;\n",
       "    }\n",
       "\n",
       "    .dataframe thead th {\n",
       "        text-align: right;\n",
       "    }\n",
       "</style>\n",
       "<table border=\"1\" class=\"dataframe\">\n",
       "  <thead>\n",
       "    <tr style=\"text-align: right;\">\n",
       "      <th></th>\n",
       "      <th>census</th>\n",
       "      <th>prb</th>\n",
       "      <th>un</th>\n",
       "      <th>maddison</th>\n",
       "      <th>hyde</th>\n",
       "      <th>tanton</th>\n",
       "      <th>biraben</th>\n",
       "      <th>mj</th>\n",
       "      <th>thomlinson</th>\n",
       "      <th>durand</th>\n",
       "      <th>clark</th>\n",
       "    </tr>\n",
       "    <tr>\n",
       "      <th>Year</th>\n",
       "      <th></th>\n",
       "      <th></th>\n",
       "      <th></th>\n",
       "      <th></th>\n",
       "      <th></th>\n",
       "      <th></th>\n",
       "      <th></th>\n",
       "      <th></th>\n",
       "      <th></th>\n",
       "      <th></th>\n",
       "      <th></th>\n",
       "    </tr>\n",
       "  </thead>\n",
       "  <tbody>\n",
       "    <tr>\n",
       "      <th>1950</th>\n",
       "      <td>2557628654</td>\n",
       "      <td>2.516000e+09</td>\n",
       "      <td>2.525149e+09</td>\n",
       "      <td>2.544000e+09</td>\n",
       "      <td>2.527960e+09</td>\n",
       "      <td>2.400000e+09</td>\n",
       "      <td>2.527000e+09</td>\n",
       "      <td>2.500000e+09</td>\n",
       "      <td>2.400000e+09</td>\n",
       "      <td>NaN</td>\n",
       "      <td>2.486000e+09</td>\n",
       "    </tr>\n",
       "    <tr>\n",
       "      <th>1951</th>\n",
       "      <td>2594939877</td>\n",
       "      <td>NaN</td>\n",
       "      <td>2.572851e+09</td>\n",
       "      <td>2.571663e+09</td>\n",
       "      <td>NaN</td>\n",
       "      <td>NaN</td>\n",
       "      <td>NaN</td>\n",
       "      <td>NaN</td>\n",
       "      <td>NaN</td>\n",
       "      <td>NaN</td>\n",
       "      <td>NaN</td>\n",
       "    </tr>\n",
       "    <tr>\n",
       "      <th>1952</th>\n",
       "      <td>2636772306</td>\n",
       "      <td>NaN</td>\n",
       "      <td>2.619292e+09</td>\n",
       "      <td>2.617949e+09</td>\n",
       "      <td>NaN</td>\n",
       "      <td>NaN</td>\n",
       "      <td>NaN</td>\n",
       "      <td>NaN</td>\n",
       "      <td>NaN</td>\n",
       "      <td>NaN</td>\n",
       "      <td>NaN</td>\n",
       "    </tr>\n",
       "    <tr>\n",
       "      <th>1953</th>\n",
       "      <td>2682053389</td>\n",
       "      <td>NaN</td>\n",
       "      <td>2.665865e+09</td>\n",
       "      <td>2.665959e+09</td>\n",
       "      <td>NaN</td>\n",
       "      <td>NaN</td>\n",
       "      <td>NaN</td>\n",
       "      <td>NaN</td>\n",
       "      <td>NaN</td>\n",
       "      <td>NaN</td>\n",
       "      <td>NaN</td>\n",
       "    </tr>\n",
       "    <tr>\n",
       "      <th>1954</th>\n",
       "      <td>2730228104</td>\n",
       "      <td>NaN</td>\n",
       "      <td>2.713172e+09</td>\n",
       "      <td>2.716927e+09</td>\n",
       "      <td>NaN</td>\n",
       "      <td>NaN</td>\n",
       "      <td>NaN</td>\n",
       "      <td>NaN</td>\n",
       "      <td>NaN</td>\n",
       "      <td>NaN</td>\n",
       "      <td>NaN</td>\n",
       "    </tr>\n",
       "  </tbody>\n",
       "</table>\n",
       "</div>"
      ],
      "text/plain": [
       "          census           prb            un      maddison          hyde  \\\n",
       "Year                                                                       \n",
       "1950  2557628654  2.516000e+09  2.525149e+09  2.544000e+09  2.527960e+09   \n",
       "1951  2594939877           NaN  2.572851e+09  2.571663e+09           NaN   \n",
       "1952  2636772306           NaN  2.619292e+09  2.617949e+09           NaN   \n",
       "1953  2682053389           NaN  2.665865e+09  2.665959e+09           NaN   \n",
       "1954  2730228104           NaN  2.713172e+09  2.716927e+09           NaN   \n",
       "\n",
       "            tanton       biraben            mj    thomlinson durand  \\\n",
       "Year                                                                  \n",
       "1950  2.400000e+09  2.527000e+09  2.500000e+09  2.400000e+09    NaN   \n",
       "1951           NaN           NaN           NaN           NaN    NaN   \n",
       "1952           NaN           NaN           NaN           NaN    NaN   \n",
       "1953           NaN           NaN           NaN           NaN    NaN   \n",
       "1954           NaN           NaN           NaN           NaN    NaN   \n",
       "\n",
       "             clark  \n",
       "Year                \n",
       "1950  2.486000e+09  \n",
       "1951           NaN  \n",
       "1952           NaN  \n",
       "1953           NaN  \n",
       "1954           NaN  "
      ]
     },
     "execution_count": 3,
     "metadata": {},
     "output_type": "execute_result"
    }
   ],
   "source": [
    "table2 = tables[2]\n",
    "table2.columns = [ 'census' , 'prb' , 'un' , 'maddison' , 'hyde' , 'tanton' , \n",
    "                  'biraben' , 'mj' , 'thomlinson' , 'durand' , 'clark' ]\n",
    "table2.head()"
   ]
  },
  {
   "cell_type": "code",
   "execution_count": 4,
   "metadata": {},
   "outputs": [],
   "source": [
    "#use dot operator to select collumns\n",
    "\n",
    "census = pd.Series( table2.census / 1e9 )\n",
    "un = pd.Series( table2.un /1e9 )\n",
    "\n",
    "#1e9 is a less error prone way of writing 1000000000, a billion"
   ]
  },
  {
   "cell_type": "code",
   "execution_count": 48,
   "metadata": {},
   "outputs": [
    {
     "data": {
      "text/plain": [
       "[<matplotlib.lines.Line2D at 0x7f40b11dcc10>]"
      ]
     },
     "execution_count": 48,
     "metadata": {},
     "output_type": "execute_result"
    },
    {
     "data": {
      "image/png": "[encoded data removed]",
      "text/plain": [
       "<Figure size 432x288 with 1 Axes>"
      ]
     },
     "metadata": {
      "needs_background": "light"
     },
     "output_type": "display_data"
    }
   ],
   "source": [
    "plt.plot( census, ':', label = 'US Census')\n",
    "plt.plot( un, '--', label = 'UN DESA')"
   ]
  },
  {
   "cell_type": "markdown",
   "metadata": {},
   "source": [
    "### Constant Growth Model\n",
    "a roughly linear growth since 1960"
   ]
  },
  {
   "cell_type": "code",
   "execution_count": 8,
   "metadata": {},
   "outputs": [
    {
     "name": "stdout",
     "output_type": "stream",
     "text": [
      "0.07224800083333333\n"
     ]
    }
   ],
   "source": [
    "t_0 = census.index[0]\n",
    "t_end = census.index[-1]\n",
    "elapsed_time = t_end - t_0\n",
    "\n",
    "p_0 = census[t_0]\n",
    "p_end = census[t_end]\n",
    "total_growth = p_end - p_0\n",
    "\n",
    "annual_growth = total_growth / elapsed_time\n",
    "print( annual_growth )\n"
   ]
  },
  {
   "cell_type": "code",
   "execution_count": 9,
   "metadata": {},
   "outputs": [
    {
     "data": {
      "text/html": [
       "<div>\n",
       "<style scoped>\n",
       "    .dataframe tbody tr th:only-of-type {\n",
       "        vertical-align: middle;\n",
       "    }\n",
       "\n",
       "    .dataframe tbody tr th {\n",
       "        vertical-align: top;\n",
       "    }\n",
       "\n",
       "    .dataframe thead th {\n",
       "        text-align: right;\n",
       "    }\n",
       "</style>\n",
       "<table border=\"1\" class=\"dataframe\">\n",
       "  <thead>\n",
       "    <tr style=\"text-align: right;\">\n",
       "      <th></th>\n",
       "      <th>time</th>\n",
       "      <th>censusDat</th>\n",
       "      <th>linearFit</th>\n",
       "      <th>unDat</th>\n",
       "    </tr>\n",
       "  </thead>\n",
       "  <tbody>\n",
       "    <tr>\n",
       "      <th>0</th>\n",
       "      <td>1950</td>\n",
       "      <td>2.557629</td>\n",
       "      <td>2.557629</td>\n",
       "      <td>2.525149</td>\n",
       "    </tr>\n",
       "    <tr>\n",
       "      <th>1</th>\n",
       "      <td>1951</td>\n",
       "      <td>2.594940</td>\n",
       "      <td>2.629877</td>\n",
       "      <td>2.572851</td>\n",
       "    </tr>\n",
       "    <tr>\n",
       "      <th>2</th>\n",
       "      <td>1952</td>\n",
       "      <td>2.636772</td>\n",
       "      <td>2.702125</td>\n",
       "      <td>2.619292</td>\n",
       "    </tr>\n",
       "    <tr>\n",
       "      <th>3</th>\n",
       "      <td>1953</td>\n",
       "      <td>2.682053</td>\n",
       "      <td>2.774373</td>\n",
       "      <td>2.665865</td>\n",
       "    </tr>\n",
       "    <tr>\n",
       "      <th>4</th>\n",
       "      <td>1954</td>\n",
       "      <td>2.730228</td>\n",
       "      <td>2.846621</td>\n",
       "      <td>2.713172</td>\n",
       "    </tr>\n",
       "  </tbody>\n",
       "</table>\n",
       "</div>"
      ],
      "text/plain": [
       "   time  censusDat  linearFit     unDat\n",
       "0  1950   2.557629   2.557629  2.525149\n",
       "1  1951   2.594940   2.629877  2.572851\n",
       "2  1952   2.636772   2.702125  2.619292\n",
       "3  1953   2.682053   2.774373  2.665865\n",
       "4  1954   2.730228   2.846621  2.713172"
      ]
     },
     "execution_count": 9,
     "metadata": {},
     "output_type": "execute_result"
    }
   ],
   "source": [
    "#start with the observed population from 1950 and add annual_growth each year\n",
    "results = pd.Series(np.zeros(len(census)))\n",
    "results[0] = p_0\n",
    "\n",
    "for t in np.linspace( 0, len(census)-1, len(census)-1, endpoint=False ):\n",
    "    #print(t)\n",
    "    results[t+1] = results[t] + annual_growth\n",
    "    \n",
    "#results \n",
    "census\n",
    "\n",
    "df = pd.DataFrame({'time':list(census.index[:]), \n",
    "                   'censusDat': list(census[:]), \n",
    "                   'linearFit': list(results[:]),\n",
    "                   'unDat': list(un[:])})\n",
    "df.head()"
   ]
  },
  {
   "cell_type": "code",
   "execution_count": 51,
   "metadata": {},
   "outputs": [
    {
     "data": {
      "text/plain": [
       "<matplotlib.legend.Legend at 0x7f40af14c9d0>"
      ]
     },
     "execution_count": 51,
     "metadata": {},
     "output_type": "execute_result"
    },
    {
     "data": {
      "image/png": "[encoded data removed]",
      "text/plain": [
       "<Figure size 432x288 with 1 Axes>"
      ]
     },
     "metadata": {
      "needs_background": "light"
     },
     "output_type": "display_data"
    }
   ],
   "source": [
    "plt.plot( df.time, df.censusDat, ':', label = 'US Census')\n",
    "plt.plot( df.time, df.unDat, '--', label = 'UN DESA')\n",
    "plt.plot( df.time, df.linearFit, label = 'Linear Growth')\n",
    "plt.legend()"
   ]
  },
  {
   "cell_type": "markdown",
   "metadata": {},
   "source": [
    " "
   ]
  },
  {
   "cell_type": "markdown",
   "metadata": {},
   "source": [
    "## Modeling Growth"
   ]
  },
  {
   "cell_type": "markdown",
   "metadata": {},
   "source": [
    "**State Objects** contain state variables which represent the state of the system which gets updated in the course of the sumlation  \n",
    "**System Objects** contain system variables which represent parameters of the system which usually don't get updated over the course of the simulation.\n",
    "  \n",
    "Using system objects really does a lot to help organize code and makes a difference when running larger and more complex simulations"
   ]
  },
  {
   "cell_type": "code",
   "execution_count": 10,
   "metadata": {},
   "outputs": [
    {
     "data": {
      "text/plain": [
       "{'t_0': 1950,\n",
       " 't_end': 2016,\n",
       " 'p_0': 2.557628654,\n",
       " 'annual_growth': 0.07224800083333333}"
      ]
     },
     "execution_count": 10,
     "metadata": {},
     "output_type": "execute_result"
    }
   ],
   "source": [
    "#put static parameters that are needed to model the system in thier own state object\n",
    "system = State()\n",
    "system.t_0 = t_0\n",
    "system.t_end = t_end\n",
    "system.p_0 = p_0\n",
    "system.annual_growth = annual_growth\n",
    "\n",
    "vars( system )"
   ]
  },
  {
   "cell_type": "code",
   "execution_count": 11,
   "metadata": {},
   "outputs": [],
   "source": [
    "#wrap previous fxn to take the system object\n",
    "def run_simulation1( system ):\n",
    "    \"\"\"Simulate the given number of time steps\n",
    "    system: System object\n",
    "    \"\"\"\n",
    "    num_steps = np.linspace( system.t_0, system.t_end, (system.t_end-system.t_0), endpoint=False )\n",
    "    results = pd.Series(np.zeros(len(num_steps)), index=num_steps)\n",
    "    results.loc[system.t_0] = system.p_0\n",
    "\n",
    "    for i in num_steps:\n",
    "        results.loc[i+1] = results.loc[i] + system.annual_growth\n",
    "        \n",
    "    return results\n",
    "\n",
    "#funcion to plot the results\n",
    "def plot_results( census, un, timeseries, title ):\n",
    "    \"\"\"Plot the results of run_simulation\n",
    "    census: data Series\n",
    "    un: data Series\n",
    "    timeseries: run_simulation results series\n",
    "    title: string\n",
    "    \"\"\"\n",
    "    plt.plot( census, \":\", label = 'US Census' )\n",
    "    plt.plot( un, \"--\", label = 'UN DESA' )\n",
    "    plt.plot( timeseries, color='gray', label = 'model' )\n",
    "    plt.legend()\n",
    "    plt.title(title)\n",
    "    plt.ylabel('World Population (billions)')\n",
    "    plt.xlabel('Year')\n",
    "    "
   ]
  },
  {
   "cell_type": "code",
   "execution_count": 14,
   "metadata": {},
   "outputs": [
    {
     "data": {
      "image/png": "[encoded data removed]",
      "text/plain": [
       "<Figure size 432x288 with 1 Axes>"
      ]
     },
     "metadata": {
      "needs_background": "light"
     },
     "output_type": "display_data"
    }
   ],
   "source": [
    "results = run_simulation1( system )\n",
    "plot_results( census, un, results, 'Constant growth model')"
   ]
  },
  {
   "cell_type": "markdown",
   "metadata": {},
   "source": [
    "### Proportional Growth\n",
    "Constant Growth is not very realistic. Next, 'improve' the model by taking into account the population birth and death rates.."
   ]
  },
  {
   "cell_type": "code",
   "execution_count": 15,
   "metadata": {},
   "outputs": [],
   "source": [
    "def run_simulation2( system ):\n",
    "    \"\"\"Simulate proportional growth\n",
    "    system: System object\n",
    "    \"\"\"\n",
    "    num_steps = np.linspace( system.t_0, system.t_end, (system.t_end-system.t_0), endpoint=False )\n",
    "    results = pd.Series(np.zeros(len(num_steps)), index=num_steps)\n",
    "    results.loc[system.t_0] = system.p_0\n",
    "\n",
    "    for i in num_steps:\n",
    "        births = system.birth_rate * results.loc[i]\n",
    "        deaths = system.death_rate * results.loc[i]\n",
    "        results.loc[i+1] = results.loc[i] + births - deaths\n",
    "        \n",
    "    return results"
   ]
  },
  {
   "cell_type": "code",
   "execution_count": 16,
   "metadata": {},
   "outputs": [],
   "source": [
    "system.death_rate = 0.01\n",
    "system.birth_rate = 0.027"
   ]
  },
  {
   "cell_type": "code",
   "execution_count": 17,
   "metadata": {},
   "outputs": [
    {
     "data": {
      "image/png": "[encoded data removed]",
      "text/plain": [
       "<Figure size 432x288 with 1 Axes>"
      ]
     },
     "metadata": {
      "needs_background": "light"
     },
     "output_type": "display_data"
    }
   ],
   "source": [
    "results = run_simulation2( system )\n",
    "plot_results( census, un, results, 'Proportional growth model')"
   ]
  },
  {
   "cell_type": "code",
   "execution_count": 18,
   "metadata": {},
   "outputs": [],
   "source": [
    "#factoring out the update function:\n",
    "def update_fxn1( pop, t, system ):\n",
    "    \"\"\"run_sumulation update function with system.birth_rate and system.death_rate\n",
    "    pop: current population\n",
    "    t: index variable\n",
    "    system: system object\"\"\"\n",
    "    births = system.birth_rate * pop\n",
    "    deaths = system.death_rate * pop\n",
    "    return pop + births - deaths"
   ]
  },
  {
   "cell_type": "code",
   "execution_count": 19,
   "metadata": {},
   "outputs": [],
   "source": [
    "#revise run_simulation\n",
    "def run_simulation( system, update_fxn ):\n",
    "    \"\"\"Simulate proportional growth\n",
    "    system: System object\n",
    "    update_fxn1: function that updates population\n",
    "    \"\"\"\n",
    "    num_steps = np.linspace( system.t_0, system.t_end, (system.t_end-system.t_0), endpoint=False )\n",
    "    results = pd.Series(np.zeros(len(num_steps)), index=num_steps)\n",
    "    results.loc[system.t_0] = system.p_0\n",
    "\n",
    "    for i in num_steps:\n",
    "        results.loc[i+1] = update_fxn( results.loc[i], i, system )\n",
    "        \n",
    "    return results"
   ]
  },
  {
   "cell_type": "code",
   "execution_count": 20,
   "metadata": {},
   "outputs": [
    {
     "data": {
      "image/png": "[encoded data removed]",
      "text/plain": [
       "<Figure size 432x288 with 1 Axes>"
      ]
     },
     "metadata": {
      "needs_background": "light"
     },
     "output_type": "display_data"
    }
   ],
   "source": [
    "results = run_simulation( system, update_fxn1 )\n",
    "plot_results( census, un, results, 'Proportional growth model')"
   ]
  },
  {
   "cell_type": "code",
   "execution_count": 61,
   "metadata": {},
   "outputs": [],
   "source": [
    "#combining birth and death\n",
    "system.alpha = system.birth_rate - system.death_rate"
   ]
  },
  {
   "cell_type": "markdown",
   "metadata": {},
   "source": [
    "**alpha** is a conventional term for a system's growth rate"
   ]
  },
  {
   "cell_type": "code",
   "execution_count": 62,
   "metadata": {},
   "outputs": [],
   "source": [
    "def update_fxn2( pop, t, system ):\n",
    "    \"\"\"run_sumulation update function with system.alpha\n",
    "    pop: current population\n",
    "    t: index variable\n",
    "    system: system object\"\"\"\n",
    "    net_growth = system.alpha * pop\n",
    "    return pop + net_growth"
   ]
  },
  {
   "cell_type": "code",
   "execution_count": 63,
   "metadata": {},
   "outputs": [
    {
     "data": {
      "image/png": "[encoded data removed]",
      "text/plain": [
       "<Figure size 432x288 with 1 Axes>"
      ]
     },
     "metadata": {
      "needs_background": "light"
     },
     "output_type": "display_data"
    }
   ],
   "source": [
    "results = run_simulation( system, update_fxn2 )\n",
    "plot_results( census, un, results, 'Proportional growth model')"
   ]
  },
  {
   "cell_type": "markdown",
   "metadata": {},
   "source": [
    "## Quadratic Growth\n",
    "  \n",
    "it makes sense that the net growth should depend on the current population, but perhaps it's a linear relationship is not the best model.  \n",
    "nest we implement a quadratic model of the form:\n",
    "\n",
    "$$Net Growth = \\alpha*population + \\beta*population$$"
   ]
  },
  {
   "cell_type": "code",
   "execution_count": 34,
   "metadata": {},
   "outputs": [],
   "source": [
    "def update_fxn_quad( pop, t, system ):\n",
    "    \"\"\"run_sumulation update quadratic function \n",
    "    pop: current population\n",
    "    t: index variable\n",
    "    system: system object\"\"\"\n",
    "    net_growth = system.alpha * pop + system.beta * pop**2\n",
    "    return pop + net_growth"
   ]
  },
  {
   "cell_type": "code",
   "execution_count": 22,
   "metadata": {},
   "outputs": [],
   "source": [
    "system.alpha = 0.025\n",
    "system.beta = -0.0018"
   ]
  },
  {
   "cell_type": "code",
   "execution_count": 29,
   "metadata": {},
   "outputs": [
    {
     "name": "stderr",
     "output_type": "stream",
     "text": [
      "/home/bonzilla/anaconda3/lib/python3.7/site-packages/ipykernel_launcher.py:6: RuntimeWarning: overflow encountered in double_scalars\n",
      "  \n"
     ]
    },
    {
     "data": {
      "image/png": "[encoded data removed]",
      "text/plain": [
       "<Figure size 432x288 with 1 Axes>"
      ]
     },
     "metadata": {
      "needs_background": "light"
     },
     "output_type": "display_data"
    }
   ],
   "source": [
    "results = run_simulation( system, update_fxn_quad )\n",
    "plot_results( census, un, results, 'Proportional growth model')"
   ]
  },
  {
   "cell_type": "code",
   "execution_count": 67,
   "metadata": {},
   "outputs": [
    {
     "data": {
      "text/plain": [
       "Text(0, 0.5, 'Net Growth (Billions)')"
      ]
     },
     "execution_count": 67,
     "metadata": {},
     "output_type": "execute_result"
    },
    {
     "data": {
      "image/png": "[encoded data removed]",
      "text/plain": [
       "<Figure size 432x288 with 1 Axes>"
      ]
     },
     "metadata": {
      "needs_background": "light"
     },
     "output_type": "display_data"
    }
   ],
   "source": [
    "#a closer look at net growth\n",
    "pop_array = np.linspace( 0, 15, 100 )\n",
    "net_growth_array = ( system.alpha * pop_array + system.beta * pop_array**2 )\n",
    "plt.plot( pop_array, net_growth_array )\n",
    "plt.title( 'Net Growth' )\n",
    "plt.xlabel( 'Population (Billions)' )\n",
    "plt.ylabel( 'Net Growth (Billions)')"
   ]
  },
  {
   "cell_type": "markdown",
   "metadata": {},
   "source": [
    "**Quadratic Population Growth**\n",
    "1. when the population is small (<4B) the net growth is proportional to the population.\n",
    "2. when the population is high (4B <=pop<=10B) the net growth is relatively high\n",
    "3. when the population get too high (>10B) the growth slows down (resource limitations)\n",
    "4. if the population gets excessively high, (>14B) the death rate overtakes the growth rate and net growth becomes negative.\n"
   ]
  },
  {
   "cell_type": "markdown",
   "metadata": {},
   "source": [
    "### Equilibrium\n",
    "\n",
    "To find the equilibrium points of the system, we look to find the roots, or zero points of the quadratic equation:\n",
    "$$\\Delta p = \\alpha p + \\beta p^2 = p (\\alpha + \\beta p)$$  \n",
    "In the context of population modeling, the quadratic model is more conventionally written as:\n",
    "$$\\Delta p = r p (1 - \\frac{p}{K})$$\n",
    "\n",
    "where $r = \\alpha$ == the maximum growth rate observed when $p$ is small and $K$ is the equilibrium point. $K = -\\alpha/\\beta$ == the carrying capacity of the system it indicates the maximum population the environment can sustain."
   ]
  },
  {
   "cell_type": "code",
   "execution_count": 24,
   "metadata": {},
   "outputs": [
    {
     "name": "stdout",
     "output_type": "stream",
     "text": [
      "13.88888888888889\n"
     ]
    }
   ],
   "source": [
    "def carrying_capacity(system):\n",
    "    \"\"\"compute the carrying capacity of a system\n",
    "    system: a System object\"\"\"\n",
    "    K = -system.alpha / system.beta\n",
    "    return K\n",
    "\n",
    "sys1 = State()\n",
    "sys1.alpha = 0.025\n",
    "sys1.beta = -0.0018\n",
    "pop = carrying_capacity(sys1)\n",
    "print(pop)"
   ]
  },
  {
   "cell_type": "markdown",
   "metadata": {},
   "source": [
    "## Prediction\n",
    "\n",
    "use the quadratic model to generate projections of future growth"
   ]
  },
  {
   "cell_type": "code",
   "execution_count": 36,
   "metadata": {},
   "outputs": [
    {
     "data": {
      "text/plain": [
       "{'t_0': 1950,\n",
       " 't_end': 2016,\n",
       " 'p_0': 2.557628654,\n",
       " 'alpha': 0.025,\n",
       " 'beta': -0.0018}"
      ]
     },
     "execution_count": 36,
     "metadata": {},
     "output_type": "execute_result"
    }
   ],
   "source": [
    "system = State()\n",
    "system.t_0 = t_0\n",
    "system.t_end = t_end\n",
    "system.p_0 = p_0\n",
    "system.alpha = 0.025\n",
    "system.beta = -0.0018\n",
    "\n",
    "vars( system )"
   ]
  },
  {
   "cell_type": "code",
   "execution_count": 37,
   "metadata": {},
   "outputs": [],
   "source": [
    "#to generate a projection, just change the end date\n",
    "system.t_end = 2250\n",
    "results = run_simulation( system, update_fxn_quad )"
   ]
  },
  {
   "cell_type": "code",
   "execution_count": 39,
   "metadata": {},
   "outputs": [
    {
     "data": {
      "text/plain": [
       "(2, 14)"
      ]
     },
     "execution_count": 39,
     "metadata": {},
     "output_type": "execute_result"
    },
    {
     "data": {
      "image/png": "[encoded data removed]",
      "text/plain": [
       "<Figure size 432x288 with 1 Axes>"
      ]
     },
     "metadata": {
      "needs_background": "light"
     },
     "output_type": "display_data"
    }
   ],
   "source": [
    "#plot the results\n",
    "#plot_results( census, un, results, 'Proportional growth model')\n",
    "plt.plot( results.index, results.values, label = 'Quadratic Growth' )\n",
    "plt.plot( df.time, df.censusDat, linestyle=\"solid\", linewidth = 3, label = 'US Census')\n",
    "plt.legend()\n",
    "plt.xlim(1950,2250)\n",
    "plt.ylim(2,14)"
   ]
  },
  {
   "cell_type": "markdown",
   "metadata": {},
   "source": [
    "### Comparing Projections"
   ]
  },
  {
   "cell_type": "code",
   "execution_count": 63,
   "metadata": {},
   "outputs": [
    {
     "data": {
      "text/html": [
       "<div>\n",
       "<style scoped>\n",
       "    .dataframe tbody tr th:only-of-type {\n",
       "        vertical-align: middle;\n",
       "    }\n",
       "\n",
       "    .dataframe tbody tr th {\n",
       "        vertical-align: top;\n",
       "    }\n",
       "\n",
       "    .dataframe thead th {\n",
       "        text-align: right;\n",
       "    }\n",
       "</style>\n",
       "<table border=\"1\" class=\"dataframe\">\n",
       "  <thead>\n",
       "    <tr style=\"text-align: right;\">\n",
       "      <th></th>\n",
       "      <th>census</th>\n",
       "      <th>prb</th>\n",
       "      <th>un</th>\n",
       "    </tr>\n",
       "    <tr>\n",
       "      <th>Year</th>\n",
       "      <th></th>\n",
       "      <th></th>\n",
       "      <th></th>\n",
       "    </tr>\n",
       "  </thead>\n",
       "  <tbody>\n",
       "    <tr>\n",
       "      <th>2016</th>\n",
       "      <td>7.334772e+09</td>\n",
       "      <td>NaN</td>\n",
       "      <td>7.432663e+09</td>\n",
       "    </tr>\n",
       "    <tr>\n",
       "      <th>2017</th>\n",
       "      <td>7.412779e+09</td>\n",
       "      <td>NaN</td>\n",
       "      <td>NaN</td>\n",
       "    </tr>\n",
       "    <tr>\n",
       "      <th>2018</th>\n",
       "      <td>7.490428e+09</td>\n",
       "      <td>NaN</td>\n",
       "      <td>NaN</td>\n",
       "    </tr>\n",
       "    <tr>\n",
       "      <th>2019</th>\n",
       "      <td>7.567403e+09</td>\n",
       "      <td>NaN</td>\n",
       "      <td>NaN</td>\n",
       "    </tr>\n",
       "    <tr>\n",
       "      <th>2020</th>\n",
       "      <td>7.643402e+09</td>\n",
       "      <td>NaN</td>\n",
       "      <td>7.758157e+09</td>\n",
       "    </tr>\n",
       "  </tbody>\n",
       "</table>\n",
       "</div>"
      ],
      "text/plain": [
       "            census  prb            un\n",
       "Year                                 \n",
       "2016  7.334772e+09  NaN  7.432663e+09\n",
       "2017  7.412779e+09  NaN           NaN\n",
       "2018  7.490428e+09  NaN           NaN\n",
       "2019  7.567403e+09  NaN           NaN\n",
       "2020  7.643402e+09  NaN  7.758157e+09"
      ]
     },
     "execution_count": 63,
     "metadata": {},
     "output_type": "execute_result"
    }
   ],
   "source": [
    "table3 = tables[3]\n",
    "table3.columns = [ 'census' , 'prb' , 'un' ]\n",
    "table3.head()"
   ]
  },
  {
   "cell_type": "code",
   "execution_count": 51,
   "metadata": {},
   "outputs": [],
   "source": [
    "def plot_projections( table ):\n",
    "    \"\"\"plot projections\n",
    "    table: pd.DataFrame of tabular data\"\"\"\n",
    "    census_proj = table.census / 1e9\n",
    "    un_proj = table.un / 1e9\n",
    "    plt.plot( census_proj.dropna(), 'b:', label = 'US Census')\n",
    "    plt.plot( un_proj.dropna(), 'g--', label = 'UN DESA')"
   ]
  },
  {
   "cell_type": "code",
   "execution_count": 57,
   "metadata": {},
   "outputs": [],
   "source": [
    "system.t_end = 2100\n",
    "results = run_simulation( system, update_fxn_quad)"
   ]
  },
  {
   "cell_type": "code",
   "execution_count": 65,
   "metadata": {},
   "outputs": [
    {
     "data": {
      "text/plain": [
       "[<matplotlib.lines.Line2D at 0x7fb79b698590>]"
      ]
     },
     "execution_count": 65,
     "metadata": {},
     "output_type": "execute_result"
    },
    {
     "data": {
      "image/png": "[encoded data removed]",
      "text/plain": [
       "<Figure size 432x288 with 1 Axes>"
      ]
     },
     "metadata": {
      "needs_background": "light"
     },
     "output_type": "display_data"
    }
   ],
   "source": [
    "plot_projections( table3 )\n",
    "plt.plot( results.index, results.values, label = 'Quadratic Growth' )"
   ]
  },
  {
   "cell_type": "markdown",
   "metadata": {},
   "source": [
    "## Analysis\n",
    "\n",
    "**recurrence relation** results can be predicted by  a geometric progression\n",
    "**discrete** only defined by integer values\n",
    "**continuous** defined by continuous values\n",
    "**differential equation** an equation that related derivatives, or a function of functions.\n",
    "  \n",
    "for the population growth model, we are interested in the solution to \n",
    "$$x(t) = x_0 exp(\\alpha t)$$\n",
    "where $t = 0, x(t) = C$, so $C = x_0$\n",
    "\n",
    "**simulation** use code to model changes in the system as a function of something measurable (e.g. time)\n",
    "**analysis** comes in the form of algebra... symbolic manipuation.\n",
    "1. with analysis we can compute exact values\n",
    "2. analysis procides computational shortcuts\n",
    "3. can use analysis to support generalizations about the system\n",
    "4. analysis provides insights into the system.\n",
    "\n",
    "**Symbolic Computation**"
   ]
  },
  {
   "cell_type": "code",
   "execution_count": 73,
   "metadata": {},
   "outputs": [],
   "source": [
    "from sympy import *"
   ]
  },
  {
   "cell_type": "code",
   "execution_count": 74,
   "metadata": {},
   "outputs": [
    {
     "data": {
      "text/latex": [
       "$\\displaystyle 3$"
      ],
      "text/plain": [
       "3"
      ]
     },
     "execution_count": 74,
     "metadata": {},
     "output_type": "execute_result"
    }
   ],
   "source": [
    "t = symbols( 't' )\n",
    "expr = t + 1\n",
    "expr.subs( t, 2 )"
   ]
  },
  {
   "cell_type": "code",
   "execution_count": 75,
   "metadata": {},
   "outputs": [],
   "source": [
    "f = Function( 'f' )"
   ]
  },
  {
   "cell_type": "code",
   "execution_count": 76,
   "metadata": {},
   "outputs": [],
   "source": [
    "#differential equations in SymPy\n",
    "dfdt = diff( f(t), t )\n",
    "alpha = symbols( 'alpha' )\n",
    "equ1 = Eq( dfdt, alpha*f(t) )"
   ]
  },
  {
   "cell_type": "markdown",
   "metadata": {},
   "source": [
    "The result is an object that represents the following equation:\n",
    "$$\\frac{d}{dt}f(t) = \\alpha f(t)$$"
   ]
  },
  {
   "cell_type": "code",
   "execution_count": 77,
   "metadata": {},
   "outputs": [],
   "source": [
    "#use desolve for this differential equation\n",
    "solution_eq = dsolve( equ1 )"
   ]
  },
  {
   "cell_type": "markdown",
   "metadata": {},
   "source": [
    "the result is the **Exponential Growth Curve**:\n",
    "$$f(t) = C_1 exp(\\alpha t)$$"
   ]
  },
  {
   "cell_type": "code",
   "execution_count": 78,
   "metadata": {},
   "outputs": [],
   "source": [
    "#create two more symbols\n",
    "C1, p_0 = symbols( 'C1 p_0' )\n",
    "\n",
    "#perform the substitution\n",
    "particular = solution_eq.subs( C1, p_0 )"
   ]
  },
  {
   "cell_type": "markdown",
   "metadata": {},
   "source": [
    "solving the quadratic growth model with the parameters $r$ and $K$, the **Logistic Growth Curve**:\n",
    "\n",
    "$$f(t) = \\frac{K}{1 + A exp(-rt)}$$\n",
    "where $A = \\frac{(K - p_0)}{p_0}$\n",
    "\n",
    "|   Growth Type   |           Differential Equation           |\n",
    "|:---------------:|:-----------------------------------------:|\n",
    "|     Constant    |       linear: $x_n = p_0 + \\alpha n$      |\n",
    "|   Proportional  |   geometric: $x_n = p_0(1 + \\alpha )^n$   |\n",
    "|     Constant    |      linear: $x(t) = p_0 + \\alpha t$      |\n",
    "|   Proportional  |       exp: $x(t) = p_0exp(\\alpha t)$      |\n",
    "|    Quadratic    |    quadratic: $x(t) = \\frac{K}{(1 + Aexp(-rt)}$   |"
   ]
  },
  {
   "cell_type": "markdown",
   "metadata": {},
   "source": [
    "## Case Studies"
   ]
  }
 ],
 "metadata": {
  "kernelspec": {
   "display_name": "Python 3",
   "language": "python",
   "name": "python3"
  },
  "language_info": {
   "codemirror_mode": {
    "name": "ipython",
    "version": 3
   },
   "file_extension": ".py",
   "mimetype": "text/x-python",
   "name": "python",
   "nbconvert_exporter": "python",
   "pygments_lexer": "ipython3",
   "version": "3.7.6"
  }
 },
 "nbformat": 4,
 "nbformat_minor": 4
}
