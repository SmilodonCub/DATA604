{
 "cells": [
  {
   "cell_type": "markdown",
   "metadata": {},
   "source": [
    "# Modeling the Glucose-Insulin system\n",
    "\n",
    "#### Bonnie Cooper\n",
    "<br><br>  "
   ]
  },
  {
   "cell_type": "markdown",
   "metadata": {},
   "source": [
    "## Implement the minimal model of glucose and insulin in the blood stream."
   ]
  },
  {
   "cell_type": "markdown",
   "metadata": {},
   "source": [
    "### Definitions: The Glucose-Insulin System\n",
    "\n",
    "**Glucose** a form of sugar that circulates in the blood stream of animals and is metabolized as the most common fuel for typical cellular processes.  \n",
    "**Insulin** a hormone produced by the pancreas that acts to lower blood glucose levels.  \n",
    "**Hyperglycemia** when blood sugar levels become elevated.\n",
    "**Hypoglycemia** when blood sugar levels are depressed.\n",
    "**Diabetes Mellitus** a condition characterized by hyperglycemia because the body does not produce enough insulin &/or does not properly respond to the insulin that the body produces.\n",
    "**Frequently Sampled Intravenous Glucose Tolerance Test (FSIGT)** one of the most common tests for hyperglycemia &/or diabetes mellitus. a glucose injection is administered to a fasting subject. subsequently, a series of blood samples are drawn in intervals for several hours. from these samples, blood glucose measurements are obtained which describes the subjects ability to metabolize glucose."
   ]
  },
  {
   "cell_type": "markdown",
   "metadata": {},
   "source": [
    "### The Glucose Minimal Model\n",
    "The Minimal Model is a model in two parts: the glucose model and the insulin model. First described by Bergman *et al* (1), the model seeks 'the simplest model based on known physiology that could account for the insulin-glucose relationship revealed in the data.' The goal of this model is to estimate the model parameters given a dataset and to be ableto interpret the model parameters meanigfully. Blood glucose levels are modeled to decrease in the blood due to two main effects: the blood glucose's natural tendancy to normalize in concentraion and the effects of insulin. Insulin if found to have a relatively longer latency to action.  \n",
    "\n",
    "The Glucose Minimal Model consists of 2 differential equations:\n",
    "\n",
    "1. $$ \\frac{dG}{dt} = -k_1[G(t) - G_b] - X(t)G(t)$$\n",
    "2. $$ \\frac{dX}{dt} = k_3[I(t) - I_b] - k_2X(t)$$ \n",
    "\n",
    "where  \n",
    "* $G$ [ blood glucose ] as a function of time\n",
    "* $X$ [ insulin ] as a function of time\n",
    "* $I$ [ insulin ] as a function of time measured from the patient\n",
    "* $G_b$ & $I_b$ [ blood glucose ] & [ insulin ] basal at equilibrium\n",
    "* $\\frac{dG}{dt}$ & $\\frac{dX}{dt}$ rates of change\n",
    "* $k_1$, $K_2$ and $k_3$ model parameters\n",
    "\n",
    "We can interpret the equations as follows:\n",
    "1. the rate of change of blood glucose concentration as a function of time can be described by the rate of glucose disappearance due to the effects of glucose itself and the rate of glucose disappearance due to the effects of insulin\n",
    "2. the rate of change of blood insulin concentration as a function of time can be described by the rate that insulin diffuses from blood to interstitial fluid and the rate that insulin is broken down in tissue."
   ]
  },
  {
   "cell_type": "markdown",
   "metadata": {},
   "source": [
    "### the Data\n",
    "\n",
    "To test the Minimal Model, data from Pacini & Bergman (3) will be used."
   ]
  },
  {
   "cell_type": "code",
   "execution_count": 1,
   "metadata": {},
   "outputs": [],
   "source": [
    "import pandas as pd\n",
    "import matplotlib.pyplot as plt"
   ]
  },
  {
   "cell_type": "code",
   "execution_count": 2,
   "metadata": {},
   "outputs": [
    {
     "data": {
      "text/html": [
       "<div>\n",
       "<style scoped>\n",
       "    .dataframe tbody tr th:only-of-type {\n",
       "        vertical-align: middle;\n",
       "    }\n",
       "\n",
       "    .dataframe tbody tr th {\n",
       "        vertical-align: top;\n",
       "    }\n",
       "\n",
       "    .dataframe thead th {\n",
       "        text-align: right;\n",
       "    }\n",
       "</style>\n",
       "<table border=\"1\" class=\"dataframe\">\n",
       "  <thead>\n",
       "    <tr style=\"text-align: right;\">\n",
       "      <th></th>\n",
       "      <th>glucose</th>\n",
       "      <th>insulin</th>\n",
       "    </tr>\n",
       "    <tr>\n",
       "      <th>time</th>\n",
       "      <th></th>\n",
       "      <th></th>\n",
       "    </tr>\n",
       "  </thead>\n",
       "  <tbody>\n",
       "    <tr>\n",
       "      <th>0</th>\n",
       "      <td>92</td>\n",
       "      <td>11</td>\n",
       "    </tr>\n",
       "    <tr>\n",
       "      <th>2</th>\n",
       "      <td>350</td>\n",
       "      <td>26</td>\n",
       "    </tr>\n",
       "    <tr>\n",
       "      <th>4</th>\n",
       "      <td>287</td>\n",
       "      <td>130</td>\n",
       "    </tr>\n",
       "    <tr>\n",
       "      <th>6</th>\n",
       "      <td>251</td>\n",
       "      <td>85</td>\n",
       "    </tr>\n",
       "    <tr>\n",
       "      <th>8</th>\n",
       "      <td>240</td>\n",
       "      <td>51</td>\n",
       "    </tr>\n",
       "  </tbody>\n",
       "</table>\n",
       "</div>"
      ],
      "text/plain": [
       "      glucose  insulin\n",
       "time                  \n",
       "0          92       11\n",
       "2         350       26\n",
       "4         287      130\n",
       "6         251       85\n",
       "8         240       51"
      ]
     },
     "execution_count": 2,
     "metadata": {},
     "output_type": "execute_result"
    }
   ],
   "source": [
    "#read data to a pandas dataframe\n",
    "data = pd.read_csv( 'https://raw.githubusercontent.com/SmilodonCub/ModSimPy/master/notebooks/data/glucose_insulin.csv', index_col='time' )\n",
    "data.head()"
   ]
  },
  {
   "cell_type": "code",
   "execution_count": 3,
   "metadata": {},
   "outputs": [
    {
     "data": {
      "text/plain": [
       "Text(0.5, -0.05, 'This figure shows glucose and insulin concentrations over 182 min \\nfor a subject with normal insulin production and sensitivity')"
      ]
     },
     "execution_count": 3,
     "metadata": {},
     "output_type": "execute_result"
    },
    {
     "data": {
      "image/png": "[encoded data removed]",
      "text/plain": [
       "<Figure size 432x288 with 2 Axes>"
      ]
     },
     "metadata": {
      "needs_background": "light"
     },
     "output_type": "display_data"
    }
   ],
   "source": [
    "txt = 'This figure shows glucose and insulin concentrations over 182 min \\nfor a subject with normal insulin production and sensitivity'\n",
    "fig, axs = plt.subplots(2);\n",
    "fig.suptitle('Glucose and Insulin Concentrations Measured by FSIGT');\n",
    "axs[0].plot(data.index, data['glucose'], 'ob');\n",
    "axs[1].plot(data.index, data['insulin'], 'og');\n",
    "fig.text(.5, -0.05, txt, ha='center')"
   ]
  },
  {
   "cell_type": "markdown",
   "metadata": {},
   "source": [
    "### Interpolation\n",
    "The Pacini & Bergman data is a series of discrete timepoint measurements. Before we can implement the model, the data points need to be interpolated. **Interpolation** is a mathematical method that estimates values inbetween the given data points."
   ]
  },
  {
   "cell_type": "code",
   "execution_count": 4,
   "metadata": {},
   "outputs": [],
   "source": [
    "from scipy import interpolate as int\n",
    "import numpy as np"
   ]
  },
  {
   "cell_type": "code",
   "execution_count": 5,
   "metadata": {},
   "outputs": [],
   "source": [
    "I = int.interp1d( data.index, data.insulin, kind = 'linear')\n",
    "G = int.interp1d( data.index, data.glucose, kind = 'linear')"
   ]
  },
  {
   "cell_type": "code",
   "execution_count": 6,
   "metadata": {},
   "outputs": [
    {
     "data": {
      "image/png": "[encoded data removed]",
      "text/plain": [
       "<Figure size 432x288 with 2 Axes>"
      ]
     },
     "metadata": {
      "needs_background": "light"
     },
     "output_type": "display_data"
    }
   ],
   "source": [
    "ts = np.linspace( 0, 175, num = 176, endpoint=True )\n",
    "\n",
    "fig, axs = plt.subplots(2);\n",
    "fig.suptitle('Insulin & Glucose Concentrations\\nmeasured by FSIGT & an interpolated function');\n",
    "axs[1].plot( ts, I(ts), 'g', label = 'interpolated');\n",
    "axs[1].plot( data.index, data['insulin'], 'og', label = 'insulin data');\n",
    "axs[1].legend()\n",
    "axs[0].plot( ts, G(ts), 'b', label = 'interpolated');\n",
    "axs[0].plot( data.index, data['glucose'], 'ob', label = 'glucose data');\n",
    "axs[0].legend();"
   ]
  },
  {
   "cell_type": "code",
   "execution_count": 7,
   "metadata": {},
   "outputs": [
    {
     "data": {
      "image/png": "[encoded data removed]",
      "text/plain": [
       "<Figure size 432x288 with 5 Axes>"
      ]
     },
     "metadata": {},
     "output_type": "display_data"
    }
   ],
   "source": [
    "I2 = int.interp1d( data.index, data.insulin, kind = 'quadratic')\n",
    "G2 = int.interp1d( data.index, data.glucose, kind = 'quadratic')\n",
    "I_diff = (I(ts)-I2(ts))/G2(ts)*100\n",
    "G_diff = (G(ts)-G2(ts))/G2(ts)*100\n",
    "\n",
    "fig = plt.figure();\n",
    "axBig = fig.add_subplot(111)\n",
    "axBig.spines['top'].set_color('none')\n",
    "axBig.spines['bottom'].set_color('none')\n",
    "axBig.spines['left'].set_color('none')\n",
    "axBig.spines['right'].set_color('none')\n",
    "axBig.tick_params(labelcolor='w', top=False, bottom=False, left=False, right=False)\n",
    "fig.suptitle('Comparing Linear & Quadratic Interpolation Methods\\nfor Glucose & Insulin data');\n",
    "axBig.set_xlabel('Time (min)')\n",
    "axBig.set_ylabel('Concentration ($\\mu$U/mL)')\n",
    "ax0 = fig.add_subplot(223)\n",
    "ax0.plot( ts, G(ts), 'b', linewidth=2, label = 'linear');\n",
    "ax0.plot( ts, G2(ts), 'k', label = 'quadratic');\n",
    "ax0.legend();\n",
    "ax1 = fig.add_subplot(221)\n",
    "ax1.plot( ts, I(ts), 'g', linewidth=2, label = 'linear');\n",
    "ax1.plot( ts, I2(ts), 'k', label = 'quadratic');\n",
    "ax1.legend()\n",
    "ax2 = fig.add_subplot(222)\n",
    "ax2.plot( ts[0:-1], I_diff[0:-1], 'g', linewidth=2, label = 'difference');\n",
    "ax2.plot( ts, np.zeros(len(ts)), 'k');\n",
    "ax2.legend()\n",
    "ax3 = fig.add_subplot(224)\n",
    "ax3.plot( ts[0:-1], G_diff[0:-1], 'b', linewidth=2, label = 'difference');\n",
    "ax3.plot( ts, np.zeros(len(ts)), 'k');\n",
    "ax3.legend();\n"
   ]
  },
  {
   "cell_type": "markdown",
   "metadata": {},
   "source": [
    "The figure above plots the linear and quadratic interpolations of the data in the left hand column for blood glucose concentration (top panel) and blood insulin concentration (bottom panel). The envelope of the linear and quadratic series are very similar. To highlight the differences, the subplots in the right hand column show the relative differences for glucose and insulin interpolations (top and bottom figures respectively)."
   ]
  },
  {
   "cell_type": "markdown",
   "metadata": {},
   "source": [
    "## The Glucose Model"
   ]
  },
  {
   "cell_type": "markdown",
   "metadata": {},
   "source": [
    "The previous sections dealt with various interpolation methods to estimate values inbetween the provided datapoints. The following code will implement the minimal model of blood glucose levels by finding numerical solutions to the minimal model differential equations using two methods: Euler's method & Ralston's method. Euler's method evaluates the derivative of the system equations at discrete time intervals, so in this sense, it is a 1st order solution and really only very accurate to the 1st derivative. The Euler method can only yield an exact solutiion for linear problems. Ralston's method, on the other hand, is a second order solution and more advanced in that it involves an intermediate slope calculation. The slope calculation takes an intermediate value into account and therefore reduces the truncation error introduced to the numerical solution. Truncation error refers to the error incurred by discretizing data. Ralston's method is one in a family of Runge-Kutta methods that may have higher order solutions (accounting for higher order derivatives). The higher the order, the better a solution the complex series. In other words, the wavier and more irregular the data are better described by higher order methods. However, simple data series can be adequately described by Euler (1st order) and Ralston's (2nd order).  "
   ]
  },
  {
   "cell_type": "markdown",
   "metadata": {},
   "source": [
    "### Euler's Method"
   ]
  },
  {
   "cell_type": "code",
   "execution_count": 8,
   "metadata": {},
   "outputs": [],
   "source": [
    "class Params:\n",
    "    \"\"\" Params class represents a collection of parameters. \"\"\"\n",
    "\n",
    "    def __init__(self, G0, k1, k2, k3):\n",
    "        \"\"\" Create a new set of parameters \"\"\"\n",
    "        self.G0 = G0\n",
    "        self.k1 = k1\n",
    "        self.k2 = k2\n",
    "        self.k3 = k3\n",
    "        \n",
    "class State:\n",
    "    \"\"\"State class represents the current state of the minimal model\"\"\"\n",
    "    \n",
    "    def __init__( self, G, X ):\n",
    "        \"\"\"Initialize State\"\"\"\n",
    "        self.G = G\n",
    "        self.X = X\n",
    "        \n",
    "class System:\n",
    "    \"\"\"Sytem class represents the minimal model system\"\"\"\n",
    "    \n",
    "    def __init__( self, params, initState, Gb, Ib, I, t_0, t_end, dt, k1, k2, k3 ):\n",
    "        \"\"\"Initialize System\"\"\"\n",
    "        self.params = params\n",
    "        self.initState = initState\n",
    "        self.Gb = Gb\n",
    "        self.Ib = Ib\n",
    "        self.I = I\n",
    "        self.t_0 = t_0\n",
    "        self.t_end = t_end\n",
    "        self.dt = dt\n",
    "        self.k1 = k1\n",
    "        self.k2 = k2\n",
    "        self.k3 = k3"
   ]
  },
  {
   "cell_type": "code",
   "execution_count": 9,
   "metadata": {},
   "outputs": [],
   "source": [
    "def make_system( params, data, timeStep ):\n",
    "    \"\"\"\n",
    "    uses initial measurements from params & data to initialize a system\n",
    "    params: a Params object\n",
    "    data: a pandas dataframe\n",
    "    timeStep: discrete time interval of data (mins)\n",
    "    requires interpolate from scipy\n",
    "    \"\"\"\n",
    "    dt = timeStep\n",
    "    \n",
    "    G0 = params.G0\n",
    "    k1 = params.k1\n",
    "    k2 = params.k2\n",
    "    k3 = params.k3\n",
    "    \n",
    "    Gb = data.glucose[0]\n",
    "    Ib = data.insulin[0]\n",
    "    I = int.interp1d( data.index, data.insulin, kind = 'linear') \n",
    "    \n",
    "    t_0 = data.index[0]\n",
    "    t_end = data.index[-1]\n",
    "    \n",
    "    initState = State( G = G0, X=0 )\n",
    "    \n",
    "    return System( params, initState=initState, Gb=Gb, Ib=Ib, I=I, t_0=t_0, \\\n",
    "                  t_end=t_end, dt=dt, k1=k1, k2=k2, k3=k3 )\n",
    "\n",
    "def update_func( state, t, system ):\n",
    "    \"\"\"\n",
    "    Update the state of the system for a given increment of time\n",
    "    state = a State() object\n",
    "    system = a System() object\n",
    "    \"\"\"\n",
    "    G, X = state.G, state.X\n",
    "    k1, k2, k3 = system.k1, system.k2, system.k3\n",
    "    I, Ib, Gb = system.I, system.Ib, system.Gb\n",
    "    dt = system.dt\n",
    "    \n",
    "    dGdt = -k1 * ( G-Gb ) - X*G\n",
    "    dXdt = k3 * ( I(t)-Ib ) - k2*X\n",
    "    \n",
    "    G += dGdt*dt\n",
    "    X += dXdt*dt\n",
    "    \n",
    "    return State( G=G, X=X )\n",
    "\n",
    "def run_simulation( system, update_func ):\n",
    "    \"\"\"\n",
    "    rum minimal model simulation\n",
    "    \"\"\"\n",
    "    init = system.initState\n",
    "    #print( vars(init) )\n",
    "    t_0, t_end, dt = system.t_0, system.t_end, system.dt\n",
    "    \n",
    "    num_steps = np.arange( t_0, t_end+dt, dt )\n",
    "    #index_step = np.linspace( 0, len(num_steps), len(num_steps)+1, endpoint = True )\n",
    "    resultSeries = np.empty( [len( num_steps),2] )\n",
    "    resultSeries[ 0,0 ] = init.G\n",
    "    resultSeries[ 0,1 ] = init.X\n",
    "    #print( resultSeries)\n",
    "    \n",
    "    for aStep in range( len(num_steps)-1 ):\n",
    "        currentState = State( G=resultSeries[ aStep, 0 ], X=resultSeries[ aStep, 1 ])\n",
    "        nextState = update_func( currentState, num_steps[aStep], system )\n",
    "        resultSeries[ aStep + 1,0 ] = nextState.G\n",
    "        resultSeries[ aStep + 1,1 ] = nextState.X\n",
    "        #print( 'Timestep:', aStep )\n",
    "        #print( 'Current:', currentState.G, currentState.X )\n",
    "        #print( 'Next', nextState.G, nextState.X )\n",
    "    \n",
    "    data = {'time': num_steps, 'G':resultSeries[:,0], 'X':resultSeries[:,1]}\n",
    "    results_df = pd.DataFrame(data)\n",
    "    return results_df   "
   ]
  },
  {
   "cell_type": "code",
   "execution_count": 10,
   "metadata": {},
   "outputs": [
    {
     "name": "stdout",
     "output_type": "stream",
     "text": [
      "{'G0': 290, 'k1': 0.03, 'k2': 0.02, 'k3': 1e-05}\n"
     ]
    }
   ],
   "source": [
    "params = Params( G0=290, k1 = 0.03, k2 = 0.02, k3 = 1e-05 )\n",
    "print( vars( params ) )"
   ]
  },
  {
   "cell_type": "code",
   "execution_count": 11,
   "metadata": {},
   "outputs": [],
   "source": [
    "aSys = make_system( params, data, 2 )"
   ]
  },
  {
   "cell_type": "code",
   "execution_count": 12,
   "metadata": {},
   "outputs": [
    {
     "data": {
      "text/html": [
       "<div>\n",
       "<style scoped>\n",
       "    .dataframe tbody tr th:only-of-type {\n",
       "        vertical-align: middle;\n",
       "    }\n",
       "\n",
       "    .dataframe tbody tr th {\n",
       "        vertical-align: top;\n",
       "    }\n",
       "\n",
       "    .dataframe thead th {\n",
       "        text-align: right;\n",
       "    }\n",
       "</style>\n",
       "<table border=\"1\" class=\"dataframe\">\n",
       "  <thead>\n",
       "    <tr style=\"text-align: right;\">\n",
       "      <th></th>\n",
       "      <th>time</th>\n",
       "      <th>G</th>\n",
       "      <th>X</th>\n",
       "    </tr>\n",
       "  </thead>\n",
       "  <tbody>\n",
       "    <tr>\n",
       "      <th>0</th>\n",
       "      <td>0</td>\n",
       "      <td>290.00000</td>\n",
       "      <td>0.000000</td>\n",
       "    </tr>\n",
       "    <tr>\n",
       "      <th>1</th>\n",
       "      <td>2</td>\n",
       "      <td>278.12000</td>\n",
       "      <td>0.000000</td>\n",
       "    </tr>\n",
       "    <tr>\n",
       "      <th>2</th>\n",
       "      <td>4</td>\n",
       "      <td>266.95280</td>\n",
       "      <td>0.000300</td>\n",
       "    </tr>\n",
       "    <tr>\n",
       "      <th>3</th>\n",
       "      <td>6</td>\n",
       "      <td>256.29546</td>\n",
       "      <td>0.002668</td>\n",
       "    </tr>\n",
       "    <tr>\n",
       "      <th>4</th>\n",
       "      <td>8</td>\n",
       "      <td>245.07014</td>\n",
       "      <td>0.004041</td>\n",
       "    </tr>\n",
       "  </tbody>\n",
       "</table>\n",
       "</div>"
      ],
      "text/plain": [
       "   time          G         X\n",
       "0     0  290.00000  0.000000\n",
       "1     2  278.12000  0.000000\n",
       "2     4  266.95280  0.000300\n",
       "3     6  256.29546  0.002668\n",
       "4     8  245.07014  0.004041"
      ]
     },
     "execution_count": 12,
     "metadata": {},
     "output_type": "execute_result"
    }
   ],
   "source": [
    "results = run_simulation( aSys, update_func );\n",
    "results.head()"
   ]
  },
  {
   "cell_type": "code",
   "execution_count": 13,
   "metadata": {},
   "outputs": [
    {
     "data": {
      "image/png": "[encoded data removed]",
      "text/plain": [
       "<Figure size 432x288 with 2 Axes>"
      ]
     },
     "metadata": {
      "needs_background": "light"
     },
     "output_type": "display_data"
    }
   ],
   "source": [
    "fig, axs = plt.subplots(2);\n",
    "fig.suptitle('Results from Simulation of the Glucose Minimal Model');\n",
    "axs[1].plot( results['time'], results['X'], 'r', label = 'remote insulin');\n",
    "axs[1].legend()\n",
    "axs[1].set_ylabel('Concentration\\n(arbitrary units)')\n",
    "axs[1].set_xlabel('Time (min)')\n",
    "axs[0].plot( results['time'], results['G'], 'b', label = 'simulation');\n",
    "axs[0].plot( data.index, data['glucose'], 'ob', label = 'glucose data');\n",
    "axs[0].legend();\n",
    "axs[0].set_ylabel('Concentration (mg/dL)');"
   ]
  },
  {
   "cell_type": "markdown",
   "metadata": {},
   "source": [
    "### Ralston's Method"
   ]
  },
  {
   "cell_type": "code",
   "execution_count": null,
   "metadata": {},
   "outputs": [],
   "source": [
    "from scipy.integrate import odeint"
   ]
  },
  {
   "cell_type": "code",
   "execution_count": null,
   "metadata": {},
   "outputs": [],
   "source": [
    "def RalstonsMethod(f, y0, t, args=()):\n",
    "    n = len(t)\n",
    "    y = np.zeros((n, len(y0)))\n",
    "    y[0] = y0\n",
    "    for i in range(n - 1):\n",
    "        h = t[i+1] - t[i]\n",
    "        y[i+1] = y[i] + h * f(y[i] + f(y[i], t[i], *args) * h / 2., t[i] + h / 2., *args)\n",
    "    return y"
   ]
  },
  {
   "cell_type": "code",
   "execution_count": null,
   "metadata": {},
   "outputs": [],
   "source": [
    "def run_ralston(system, slope_func, **options):\n",
    "    \"\"\"Computes a numerical solution to a differential equation.\n",
    "\n",
    "    `system` must contain `init` with initial conditions,\n",
    "     and `t_end` with the end time.\n",
    "\n",
    "     `system` may contain `t_0` to override the default, 0\n",
    "\n",
    "    It can contain any other parameters required by the slope function.\n",
    "\n",
    "    `options` can be ...\n",
    "\n",
    "    system: System object\n",
    "    slope_func: function that computes slopes\n",
    "\n",
    "    returns: TimeFrame\n",
    "    \"\"\"\n",
    "    # the default message if nothing changes\n",
    "    msg = \"The solver successfully reached the end of the integration interval.\"\n",
    "\n",
    "    # get parameters from system\n",
    "    init, t_0, t_end, dt = check_system(system, slope_func)\n",
    "\n",
    "    # make the TimeFrame\n",
    "    frame = TimeFrame(columns=init.index)\n",
    "    frame.row[t_0] = init\n",
    "    ts = linrange(t_0, t_end, dt) * get_units(t_end)\n",
    "\n",
    "    event_func = options.get(\"events\", None)\n",
    "    z1 = np.nan\n",
    "\n",
    "    def project(y1, t1, slopes, dt):\n",
    "        t2 = t1 + dt\n",
    "        y2 = [y + slope * dt for y, slope in zip(y1, slopes)]\n",
    "        return y2, t2\n",
    "\n",
    "    # run the solver\n",
    "    for t1 in ts:\n",
    "        y1 = frame.row[t1]\n",
    "\n",
    "        # evaluate the slopes at the start of the time step\n",
    "        slopes1 = slope_func(y1, t1, system)\n",
    "\n",
    "        # evaluate the slopes at the two-thirds point\n",
    "        y_mid, t_mid = project(y1, t1, slopes1, 2 * dt / 3)\n",
    "        slopes2 = slope_func(y_mid, t_mid, system)\n",
    "\n",
    "        # compute the weighted sum of the slopes\n",
    "        slopes = [(k1 + 3 * k2) / 4 for k1, k2 in zip(slopes1, slopes2)]\n",
    "\n",
    "        # compute the next time stamp\n",
    "        y2, t2 = project(y1, t1, slopes, dt)\n",
    "\n",
    "        # check for a terminating event\n",
    "        if event_func:\n",
    "            z2 = event_func(y2, t2, system)\n",
    "            if z1 * z2 < 0:\n",
    "                scale = magnitude(z1 / (z1 - z2))\n",
    "                y2, t2 = project(y1, t1, slopes, scale * dt)\n",
    "                frame.row[t2] = y2\n",
    "                msg = \"A termination event occurred.\"\n",
    "                break\n",
    "            else:\n",
    "                z1 = z2\n",
    "\n",
    "        # store the results\n",
    "        frame.row[t2] = y2\n",
    "\n",
    "    details = ModSimSeries(dict(success=True, message=msg))\n",
    "    return frame, details"
   ]
  },
  {
   "cell_type": "markdown",
   "metadata": {},
   "source": [
    "## References\n",
    "\n",
    "1. Bergman, Richard N. \"Minimal model: perspective from 2005.\" Hormone Research in Paediatrics 64.Suppl. 3 (2005): 8-15.\n",
    "2. [CDC National Diabetes Statistics Report 2020](https://www.cdc.gov/diabetes/pdfs/data/statistics/national-diabetes-statistics-report.pdf)\n",
    "3. Pacini, Giovanni, and Richard N. Bergman. \"MINMOD: a computer program to calculate insulin sensitivity and pancreatic responsivity from the frequently sampled intravenous glucose tolerance test.\" Computer methods and programs in biomedicine 23.2 (1986): 113-122.\n",
    "4. [Runge-Kutta methods for ODE integration in Python](https://perso.crans.org/besson/publis/notebooks/Runge-Kutta_methods_for_ODE_integration_in_Python.html)"
   ]
  }
 ],
 "metadata": {
  "kernelspec": {
   "display_name": "Python 3",
   "language": "python",
   "name": "python3"
  },
  "language_info": {
   "codemirror_mode": {
    "name": "ipython",
    "version": 3
   },
   "file_extension": ".py",
   "mimetype": "text/x-python",
   "name": "python",
   "nbconvert_exporter": "python",
   "pygments_lexer": "ipython3",
   "version": "3.7.6"
  }
 },
 "nbformat": 4,
 "nbformat_minor": 4
}
