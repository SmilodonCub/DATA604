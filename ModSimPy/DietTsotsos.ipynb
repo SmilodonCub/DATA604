{
 "cells": [
  {
   "cell_type": "markdown",
   "metadata": {},
   "source": [
    "![](huesbanner.png)"
   ]
  },
  {
   "cell_type": "markdown",
   "metadata": {},
   "source": [
    "# Color in IT Cotex: modeling neural population coding strategies for unique hues\n",
    "\n",
    "Bonnie Cooper  \n",
    "SUNY College of Optometry  \n",
    "Dept. of Biological Sciences  \n",
    "bcooper@sunyopt.edu\n",
    "<br>  \n"
   ]
  },
  {
   "cell_type": "markdown",
   "metadata": {},
   "source": [
    "<br>  \n",
    "##  Abstract\n",
    "\n",
    "&nbsp;&nbsp;&nbsp;&nbsp;Color is a phenomenologically prominent feature of our visual experience of the world. However, the neural representation of color as uniques hues remains poorly understood. While precortical representations of luminance and chromatic contrast have be well characterized and considerable efforts have been made to understand how these signals combine in the earliest stage of the cortical visual hierarchy (V1), comparatively fewer studies have been made of higher order representations of color. Recently, Mehrani *et al* (1) presented a hierarchical model inspired by known neuronal mechanisms of unique hue representations. Successive stages of the model incorporate experimentally derived weights and computational appraches to model the visual signal processing stages of color signals withn the primate visual pathways. This simulation study will replicate the hierarchical model of hue representation and discuss possible future directions and applications."
   ]
  },
  {
   "cell_type": "markdown",
   "metadata": {},
   "source": [
    "## Introduction & Relevant Background\n",
    "&nbsp;&nbsp;&nbsp;&nbsp;To model the neural representation of color and hue in cortex of human observers, this simulation approximates visual signals from the earliest stages of reception across the retina through to higher visual cortical areas such as Inferotemporal (IT) cortex. The model takes a hierarchical approach with each layer corresponding to a physiological area in the primate visual pathway. Temporal latencies, Receptive field sizes and computational approaches are based on experimental results from a number of different studies. To rationalize this approach, a brief introduction to primate visual pathways is necessary. Visual signals originate in the retina and most retinal output projects to a midbrain structure in the thalamus, the Lateral Geniculate Nucleus (LGN). From the LGN, visual signals primarily project to the primary visual cortex (V1) as the first stage of cortical visual signal processing. Signals incoming to V1 from precortical projections are relatively simple signals of luminance or chromatic contrast. However, each successive cortical visual area performs a unique computation(s) on the incoming signal and the output builds in complexity as signals propagate to higher order visual cortical areas. From V1, two major visual pathway emerge that carry different aspects of the visual signal in parallel: (1) the dorsal pathway also referred to as the 'where' pathway, which leads to areas in the Parietal Cortex. (2) the ventral pathway, also known as the 'what' pathway which leads to areas in the Inferotemporal Cortex.\n",
    "<br>  \n",
    "![](https://www.frontiersin.org/files/Articles/194721/fnint-10-00037-HTML/image_m/fnint-10-00037-g001.jpg \"Reference \\#2\")\n",
    "<center>Fig 1 Visual Pathways Overview: Precortical visual pathway (yellow) </center>\n",
    "<center>leads from the retina through the LGN and projects to V1. The dorsal visual </center>\n",
    "<center>pathway (red) begins in V1 and projects to the parietal cortex. The ventral </center>\n",
    "<center>visual pathway (green) projects to IT cortex. Image credit: ref(2)</center>\n",
    "<br>  \n",
    "\n",
    "### Precortical Visual Pathways\n",
    "&nbsp;&nbsp;&nbsp;&nbsp;The flow of visual signals begins with signal transduction by specialized sensory receptor cells in the retina\n",
    "\n",
    "### Parallel Cortical Visual Pathways: what & where\n",
    "&nbsp;&nbsp;&nbsp;&nbsp;\n",
    "\n",
    "### Color in Cortex\n",
    "&nbsp;&nbsp;&nbsp;&nbsp;"
   ]
  },
  {
   "cell_type": "markdown",
   "metadata": {},
   "source": [
    "##  Provide a flow-chart model.\n",
    "&nbsp;&nbsp;&nbsp;&nbsp;"
   ]
  },
  {
   "cell_type": "markdown",
   "metadata": {},
   "source": [
    "##  Simulate the process for the appropriate number of iterations (justify)\n",
    "&nbsp;&nbsp;&nbsp;&nbsp;"
   ]
  },
  {
   "cell_type": "markdown",
   "metadata": {},
   "source": [
    "##  Justify the validity of the model and discuss how you verified it.\n",
    "&nbsp;&nbsp;&nbsp;&nbsp;"
   ]
  },
  {
   "cell_type": "markdown",
   "metadata": {},
   "source": [
    "##  State  your conclusions/ findings from the model. \n",
    "&nbsp;&nbsp;&nbsp;&nbsp;"
   ]
  },
  {
   "cell_type": "markdown",
   "metadata": {},
   "source": [
    "##  Generate appropriate graphs (more than one) to illustrate the results and provide a PowerPoint presentation to share with your colleagues.  Post this to the discussion."
   ]
  },
  {
   "cell_type": "markdown",
   "metadata": {},
   "source": [
    "## References\n",
    "1. Mehrani, Paria, Andrei Mouraviev, and John K. Tsotsos. \"Multiplicative modulations enhance diversity of hue-selective cells.\" Scientific Reports 10.1 (2020): 1-15.\n",
    "2. Sheth, Bhavin R., and Ryan Young. \"Two visual pathways in primates based on sampling of space: exploitation and exploration of visual information.\" Frontiers in integrative neuroscience 10 (2016): 37."
   ]
  },
  {
   "cell_type": "markdown",
   "metadata": {},
   "source": [
    "# Final Project\n",
    "Using SimPy, write a process simulation that includes waiting time (discrete event simulation).  You may use any topic of interest to you.  Write the simulation and all of the following in Jupyter.\n",
    "\n",
    "Each element is worth 5 points and will be graded using the rubric shown here.\n",
    "\n",
    "Be sure that your code works!"
   ]
  },
  {
   "cell_type": "markdown",
   "metadata": {},
   "source": [
    "![](huesbanner2.png)"
   ]
  }
 ],
 "metadata": {
  "kernelspec": {
   "display_name": "Python 3",
   "language": "python",
   "name": "python3"
  },
  "language_info": {
   "codemirror_mode": {
    "name": "ipython",
    "version": 3
   },
   "file_extension": ".py",
   "mimetype": "text/x-python",
   "name": "python",
   "nbconvert_exporter": "python",
   "pygments_lexer": "ipython3",
   "version": "3.7.6"
  }
 },
 "nbformat": 4,
 "nbformat_minor": 4
}
