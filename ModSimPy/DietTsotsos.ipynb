{
 "cells": [
  {
   "cell_type": "markdown",
   "metadata": {},
   "source": [
    "![](huesbanner.png)"
   ]
  },
  {
   "cell_type": "markdown",
   "metadata": {},
   "source": [
    "# Color in IT Cotex: neural population coding strategies for unique hues\n",
    "\n",
    "Bonnie Cooper  \n",
    "SUNY College of Optometry  \n",
    "Dept. of Biological Sciences  \n",
    "bcooper@sunyopt.edu\n",
    "<br>  \n"
   ]
  },
  {
   "cell_type": "markdown",
   "metadata": {},
   "source": [
    "<br>  \n",
    "##  Abstract\n",
    "\n",
    "&nbsp;&nbsp;&nbsp;&nbsp;Color is a phenomenologically prominent feature of our visual experience of the world. However, the neural representation of color as uniques hues remains poorly understood. While precortical representations of luminance and chromatic contrast have be well characterized and considerable efforts have been made to understand how these signals combine in early stages of the coritcal visual hierarchy, comparatively fewer studies have been made of higher order"
   ]
  },
  {
   "cell_type": "markdown",
   "metadata": {},
   "source": [
    "## Introduction & Relevant Background\n",
    "&nbsp;&nbsp;&nbsp;&nbsp;"
   ]
  },
  {
   "cell_type": "markdown",
   "metadata": {},
   "source": [
    "##  Provide a flow-chart model.\n",
    "&nbsp;&nbsp;&nbsp;&nbsp;"
   ]
  },
  {
   "cell_type": "markdown",
   "metadata": {},
   "source": [
    "##  Simulate the process for the appropriate number of iterations (justify)\n",
    "&nbsp;&nbsp;&nbsp;&nbsp;"
   ]
  },
  {
   "cell_type": "markdown",
   "metadata": {},
   "source": [
    "##  Justify the validity of the model and discuss how you verified it.\n",
    "&nbsp;&nbsp;&nbsp;&nbsp;"
   ]
  },
  {
   "cell_type": "markdown",
   "metadata": {},
   "source": [
    "##  State  your conclusions/ findings from the model. \n",
    "&nbsp;&nbsp;&nbsp;&nbsp;"
   ]
  },
  {
   "cell_type": "markdown",
   "metadata": {},
   "source": [
    "##  Generate appropriate graphs (more than one) to illustrate the results and provide a PowerPoint presentation to share with your colleagues.  Post this to the discussion."
   ]
  },
  {
   "cell_type": "markdown",
   "metadata": {},
   "source": [
    "# Final Project\n",
    "Using SimPy, write a process simulation that includes waiting time (discrete event simulation).  You may use any topic of interest to you.  Write the simulation and all of the following in Jupyter.\n",
    "\n",
    "Each element is worth 5 points and will be graded using the rubric shown here.\n",
    "\n",
    "Be sure that your code works!"
   ]
  },
  {
   "cell_type": "markdown",
   "metadata": {},
   "source": [
    "![](huesbanner2.png)"
   ]
  }
 ],
 "metadata": {
  "kernelspec": {
   "display_name": "Python 3",
   "language": "python",
   "name": "python3"
  },
  "language_info": {
   "codemirror_mode": {
    "name": "ipython",
    "version": 3
   },
   "file_extension": ".py",
   "mimetype": "text/x-python",
   "name": "python",
   "nbconvert_exporter": "python",
   "pygments_lexer": "ipython3",
   "version": "3.7.6"
  }
 },
 "nbformat": 4,
 "nbformat_minor": 4
}
