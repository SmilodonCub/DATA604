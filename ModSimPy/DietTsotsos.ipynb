{
 "cells": [
  {
   "cell_type": "markdown",
   "metadata": {},
   "source": [
    "![](huesbanner.png)"
   ]
  },
  {
   "cell_type": "markdown",
   "metadata": {},
   "source": [
    "# Color in IT Cotex: modeling neural population coding strategies for unique hues\n",
    "\n",
    "Bonnie Cooper  \n",
    "SUNY College of Optometry  \n",
    "Dept. of Biological Sciences  \n",
    "bcooper@sunyopt.edu\n",
    "<br>  \n"
   ]
  },
  {
   "cell_type": "markdown",
   "metadata": {},
   "source": [
    "<br>  \n",
    "##  Abstract\n",
    "\n",
    "&nbsp;&nbsp;&nbsp;&nbsp;Color is a phenomenologically prominent feature of our visual experience of the world. However, the neural representation of color as uniques hues remains poorly understood. While precortical representations of luminance and chromatic contrast have been well characterized and considerable efforts have been made to understand how these signals combine in the earliest stage of the cortical visual hierarchy (V1), comparatively fewer studies have been made of higher order representations of color. Recently, Mehrani *et al* (1) presented a hierarchical model inspired by known neuronal mechanisms of unique hue representations. Successive stages of the model incorporate experimentally derived weights and computational appraches to model the visual signal processing stages of color signals withn the primate visual pathways. This simulation study will replicate the hierarchical model of hue representation and discuss possible future directions and applications."
   ]
  },
  {
   "cell_type": "markdown",
   "metadata": {},
   "source": [
    "## Introduction & Relevant Background\n",
    "&nbsp;&nbsp;&nbsp;&nbsp;To model the neural representation of color and hue in cortex of human observers, this simulation approximates visual signals from the earliest stages of reception across the retina through to higher visual cortical areas such as Inferotemporal (IT) cortex. The model takes a hierarchical approach with each layer corresponding to a physiological area in the primate visual pathway. Temporal latencies, Receptive field sizes and computational approaches are based on experimental findings from a number of different studies. The goal of this simulation is to simulate a possible coding strategy for efficient representation of hue in the later stages of visual signal processing that occur in IT cotex.  \n",
    "&nbsp;&nbsp;&nbsp;&nbsp;To rationalize this approach, a brief introduction to primate visual pathways is necessary. Visual signals originate in the retina and most retinal output projects to a midbrain structure in the thalamus, the Lateral Geniculate Nucleus (LGN). From the LGN, visual signals primarily project to the primary visual cortex (V1) as the first stage of cortical visual signal processing. Signals incoming to V1 from precortical projections are relatively simple signals of luminance or chromatic contrast. However, each successive cortical visual area performs a unique computation(s) on the incoming signal and the output builds in complexity as signals propagate to higher order visual cortical areas. From V1, two major visual pathway diverge and carry different aspects of the visual signal in parallel: (1) the dorsal pathway also referred to as the 'where' pathway, which leads to areas in the Parietal Cortex. (2) the ventral pathway, also known as the 'what' pathway which leads to areas in the Inferotemporal Cortex (Fig 1). \n",
    "<br>  \n",
    "![](https://www.frontiersin.org/files/Articles/194721/fnint-10-00037-HTML/image_m/fnint-10-00037-g001.jpg \"Reference \\#2\")\n",
    "<center>Fig 1 Visual Pathways Overview: Precortical visual pathway (yellow) </center>\n",
    "<center>leads from the retina through the LGN and projects to V1. The dorsal visual </center>\n",
    "<center>pathway (red) begins in V1 and projects to the parietal cortex. The ventral </center>\n",
    "<center>visual pathway (green) projects to IT cortex. Image credit: ref(2)</center>\n",
    "<br> \n",
    "\n",
    "&nbsp;&nbsp;&nbsp;&nbsp;The following sections of this introduction will attempt a more detailed description of the primate visual pathways. However, the visual neuroscience literature is extensive and has much history; for background that extends beyond the scope of this introduction, several resources are recommended (13-15).\n",
    "\n",
    "### Precortical Visual Pathways\n",
    "&nbsp;&nbsp;&nbsp;&nbsp;The flow of visual signals begins with signal transduction by specialized sensory receptor cells in the retina, the rods and cones. The retina is a laminar structure, with the receptors in the most distal layer of cells. For vision in photopic conditions (high light levels e.g. daylight or indoor lighting), the rod photoreceptors are largely inactive due to saturation and the bullwork of conscious vision is handled by the cone photoreceptors. This simulation assumes photopic conditions. Old world primates (humans included!) generally have trichromatic vision owing to the presense of three distinct classes of cone photoreceptors (Long, Medium, Short or L,M,S cones). The sensitivity of cones can be described roughly as a bandpass filter with each class having a sensitivy peak at a different wavelength of light (L:564nm, M:534nm & S:420nm) (Fig 2 from ref. 3). The first step of this simulation is to transform RGB stimulus values to LMS cone activation signals (4).   \n",
    "\n",
    "![](https://ars.els-cdn.com/content/image/1-s2.0-S0042698998000601-gr5.jpg \"Reference \\#3\")\n",
    "<center>Fig 2 Human Cone Spectral Sensitivities</center>\n",
    "<center>The relative sensitivity of the three classes of cone photoreceptors</center>\n",
    "<center>Image credit: ref(3)</center>\n",
    "<br>  \n",
    "\n",
    "&nbsp;&nbsp;&nbsp;&nbsp;Cone photoreceptors output a graded response to changes in incident light which is passed vertically to the bipolar cell layer and on to the Retinal Ganglion Cell (RGC) layer. Different combinations of LMS cone signals are shaped in each successive layer to build in response complexity and specificity. The graded cone response signalling relative sensitivity to a change in incident light is transformed to a non-linear spike in activity in response to a change in luminance or chromatic contrast for which a class of RGC is specifically wired for. The anterior optics and geometry of the eye chanel light from a specific region of the visual field across the retina. Therefore, RGCs inherit signals that subtend the region of the visual field that it's connected receptors are selective for, this is referred to as the RGC's receptive field (RF). For example, an On-center Parvocellular RGC recieves input from one or few L or M cone photoreceptors to the center of it's RF center while the RF surround may recieve inputs from a wider sampling of the cones. The output of the cell is shaped by the difference between the RGC's RF center and surround mechanisms. The antagonistic center/surround motif is a staple of RF structures in precortical visual neurons (5) and is commonly modelled as a Difference of Gaussians (DoG) (6) (Fig 3).\n",
    "\n",
    "<br>  \n",
    "![](gcphys1f10.jpg \"Reference \\#6\")\n",
    "<center>Fig 3 Center Surround Antagonism</center>\n",
    "<center>A diagramatic representation of the antagonistic Center (C,$W_c (r)$) and Surround (S,$W_s (r)$)</center>\n",
    "<center>mechanisms of a RGC. Often modelled as a difference of gaussians.</center>\n",
    "<center>Image credit: ref(6)</center>\n",
    "<br> \n",
    "\n",
    "&nbsp;&nbsp;&nbsp;&nbsp;Multiple classes of RGCs perform summations on different LMS cone populations to build unique response properties. Parvocellular RGCs give a sustained response and can efficiently carry signals of equiluminant red-green chromatic contrast by taking a difference between L or M signals from L+M signals. Magnocellular RGCs give a relatively transient responses and are more efficient at signalling high frequency luminance contrast. Additionally, Koniocellular RGCs carry blue-yellow chromatic contrast signals by taking the difference of S cone signals from L+M. The effect of these distinct RGC classes is the representation of visual signals across 3 distinct visual channels. The majority of RGC projections from these channels are carried across morphologically distinct neuronal cell classes to anatomically separate regions of the LGN where they maintain the same spatial layout, or retinotopic mapping (7). These precortical visual pathways transform the visual signal from relative LMS cone sensitivities to DKL color space, a representation in a three dimentional shape defined by axes that describe the luminance (L+M)$\\pm$(L+M) (Magnocellular), red/greem chromatic L/M$\\pm$(L+M) (Parvocellular) and the blue/yellow S$\\pm$(L+M) axes (8). The LGN segregates the seperate RGC pathways and maintains the antagonistic center, therefore this simulation approximates the progression from LMS cone sensitivities to LGN output as the first 'layer' in the model hierarchy.\n",
    "\n",
    "![](DKLspace.png \"Reference \\#8\")\n",
    "<center>Fig 4 DKL Color Space</center>\n",
    "<center>DKL color space, a spherical volume defined by cone opponent axes</center>\n",
    "<center>Image credit: ref(8)</center>\n",
    "<br>\n",
    "\n",
    "### Parallel Cortical Visual Pathways: what & where\n",
    "&nbsp;&nbsp;&nbsp;&nbsp;Precortical visual pathways send the majority of thier output from LGN to the Primary Visual Cortex, V1 where, remarkably, the same retintopic mapping is preserved (9). However, the RF properties of V1 build in complexity from the antogonistic center surround motifs of RGCs & LGN (10). LGN neurons respond to different changes in contrast. V1 neurons, however, are more selective to properties of a visual stimulus. For example, Simple cells are a class of V1 neurons that have a peak response to changes in contrast with a specific orientation, spatial frequency & temporal frequency. In other words, simple cells selectively respond to edges. The simple cell RF is constructed by arranging specific LGN inputs such that regions give either an 'On' or 'Off' response to orientations of contrast in the visual field (11). (Fig 5). \n",
    "\n",
    "![](HW1962.png \"Reference \\#10\")\n",
    "<center>Fig 5 V1 Simple Cell</center>\n",
    "<center>An earl schematic from Hubel \\& Wiesels 1962 paper illustrates a </center>\n",
    "<center>possible wiring schematic for LGN input tp build a simple cell RF</center>\n",
    "<center>Image credit: ref(10)</center>\n",
    "<br>\n",
    "\n",
    "&nbsp;&nbsp;&nbsp;&nbsp;V1 is the first stage of processing for most of the visual snesory information that enters the cortex via LGN. However, there are many subsequent areas that act on the visual signal to build in complexity of the representation to ultimately create the rich and nuanced visual experience that is percieved by the eye's beholder. There are two major pathways for visual information flow in the cortex that diverge from V1 (Fig 1). The Dorsal 'Where' Pathway ultimately projects to the parietal cortex, an area that is heavily involved in prioritizing visually guided actions and behaviors and orienting the animals response properly to the spatial environment. The Ventral 'What' Pathway projects to visual areas in the temporal lobe. As visual signals propogate along the ventral pathway, the response properties increase in specificity for visual features of stimuli in the RF. For example, responses of simple cells in V1 may be tuned for specific orientations of an edge. However, the responses in V2 may build from V1 inputs and respond optimally to specific contours and angles (16). Response complexity continues to increase along successive visual cortical areas towards areas in IT cortex (17) where responses may be tuned optimally to specific faces, places and object categories (18,19). This simulation will focus on the propagation of chromatic signals along the ventral pathway and assumes a simplified feedforward architecture from LGN through the areas V1, V2 & V4. However, as Felleman & van Essen (1990) illustrated, it is important to remember that in reality, these cortical areas are densely interconnected with feed forward/back and horizontal projections (Fig 6)\n",
    "\n",
    "![](https://www.researchgate.net/profile/Xun_Shi3/publication/316172532/figure/fig6/AS:484249313779717@1492465441589/1-The-hierarchy-of-visual-areas-and-connections-Image-from-Felleman-and-Van-Essen.png\n",
    " \"Reference \\#12\")\n",
    "<center>Fig 6 Cortical Visual Hierarchy</center>\n",
    "<center>The visual processing stream has a hierarchical organization</center>\n",
    "<center>dense with feed forward/back and horizontal interconnections</center>\n",
    "<center>Image credit: ref(12)</center>\n",
    "<br>\n",
    "\n",
    "### Modelling Color from Retina to Cortex\n",
    "&nbsp;&nbsp;&nbsp;&nbsp;This simulation will model a simplified hierarchical approximation of color processing mechanisms from LMS cone weights in the retina to unique hue tuning in IT cortex. The flow of color signals will trace a feed-forward route from LGN, V1 and through two subsequent visual cortical areas in the ventral stream: V2 and V4. Each layer of the model will shape the output based on known biological responses.  \n",
    "&nbsp;&nbsp;&nbsp;&nbsp;Precortical color mechanisms are reasonably well understood. To approximate LGN color response properties, first the stimulus values transformed from RGB values to weighted LMS cone responses. The LGN layer of the model will approximate the RF size and antagonistic center-surround RF of several classes opponent responses (6) to approximate single chromatic opponent responses of LGN visual channels (20). Additionally, the response with be rectified (neurons cannot have a negative firing rate). The output of the LGN layer will result in 6 'neuron' types to approximate a representation in DKL space. Chromatic responses in V1 have also been described as single opponent (20). Therefore, the V1 layer of the model will not modify the LGN chromatic signals much save for a convolution to account for an increase in RF diameter and a rectification of negative firing rates. To model V2 chromatic hue selectivity, two coding strategies are applied in parallel. A single-opponent process similar to previous layers that takes into account a larger RF diameter and response rectification. Additionally, a multiplicative process is implemented which mixes the chromatic response properties from previous layers; this has the effect of narrowing chromatic tuning bandwidths and shifting response peaks of DKL axes (intermediate hues). The multiplicative channels also take into account a larger RF diameter and response rectification. The output of V2 is then distributed over 6 single opponent and 8 multiplicative 'neuron' types. V4 is the final layer. In V4, V2 inputs are convolved with another gaussian to account for V4 RF diameter. From the 14 V2 simulated neuron classes, V4 responses are modelled as linear combinations that yield tunings in one of 6 hue directions\n",
    "<br>\n",
    "\n",
    "### Simulation Flow Chart"
   ]
  },
  {
   "cell_type": "markdown",
   "metadata": {},
   "source": [
    "##  Simulate the process for the appropriate number of iterations (justify)\n",
    "&nbsp;&nbsp;&nbsp;&nbsp;"
   ]
  },
  {
   "cell_type": "markdown",
   "metadata": {},
   "source": [
    "##  Justify the validity of the model and discuss how you verified it.\n",
    "&nbsp;&nbsp;&nbsp;&nbsp;"
   ]
  },
  {
   "cell_type": "markdown",
   "metadata": {},
   "source": [
    "##  State  your conclusions/ findings from the model. \n",
    "&nbsp;&nbsp;&nbsp;&nbsp;"
   ]
  },
  {
   "cell_type": "markdown",
   "metadata": {},
   "source": [
    "##  Generate appropriate graphs (more than one) to illustrate the results and provide a PowerPoint presentation to share with your colleagues.  Post this to the discussion."
   ]
  },
  {
   "cell_type": "markdown",
   "metadata": {},
   "source": [
    "## References\n",
    "1. Mehrani, Paria, Andrei Mouraviev, and John K. Tsotsos. \"Multiplicative modulations enhance diversity of hue-selective cells.\" Scientific Reports 10.1 (2020): 1-15.\n",
    "2. Sheth, Bhavin R., and Ryan Young. \"Two visual pathways in primates based on sampling of space: exploitation and exploration of visual information.\" Frontiers in integrative neuroscience 10 (2016): 37.\n",
    "3. Stockman, Andrew, and Lindsay T. Sharpe. \"Human cone spectral sensitivities: a progress report.\" Vision Research 38.21 (1998): 3193-3206.\n",
    "4. De Paula, Judah B. Converting rgb images to lms cone activations. Computer Science Department, University of Texas at Austin, 2006.\n",
    "5. Hubel, David H., and Torsten N. Wiesel. \"Brain mechanisms of vision.\" Scientific American 241.3 (1979): 150-163.\n",
    "6. Enroth-Cugell, Christina, and John G. Robson. \"The contrast sensitivity of retinal ganglion cells of the cat.\" The Journal of physiology 187.3 (1966): 517-552.\n",
    "7. Lee, Barry B. \"Color coding in the primate visual pathway: a historical view.\" JOSA A 31.4 (2014): A103-A112.\n",
    "8. Derrington, Andrew M., John Krauskopf, and Peter Lennie. \"Chromatic mechanisms in lateral geniculate nucleus of macaque.\" The Journal of physiology 357.1 (1984): 241-265.\n",
    "9. Tootell, Roger B., et al. \"Deoxyglucose analysis of retinotopic organization in primate striate cortex.\" Science 218.4575 (1982): 902-904.\n",
    "10. Hubel, David H., and Torsten N. Wiesel. \"Receptive fields, binocular interaction and functional architecture in the cat's visual cortex.\" The Journal of physiology 160.1 (1962): 106.\n",
    "11. Reid, R. Clay, and Jose-Manuel Alonso. \"Specificity of monosynaptic connections from thalamus to visual cortex.\" Nature 378.6554 (1995): 281-284.\n",
    "12. Felleman, Daniel J., and David C. Van Essen. \"Distributed hierarchical processing in the primate cerebral cortex.\" Cereb cortex. 1991.\n",
    "13. Glickstein, Mitchell. Neuroscience: A historical introduction. MIT Press, 2014.\n",
    "14. Chalupa, Leo M., and John S. Werner. The visual neurosciences, Vols. 1 & 2. MIT press, 2004.\n",
    "15. Zhaoping, Li, and Zhaoping Li. Understanding vision: theory, models, and data. Oxford University Press, USA, 2014.\n",
    "16. Boynton, Geoffrey M., and Jay Hegdé. \"Visual cortex: The continuing puzzle of area V2.\" Current Biology 14.13 (2004): R523-R524.\n",
    "17. Desimone, Robert, et al. \"Contour, color and shape analysis beyond the striate cortex.\" Vision research 25.3 (1985): 441-452.\n",
    "18. Haxby, James V., et al. \"Distributed and overlapping representations of faces and objects in ventral temporal cortex.\" Science 293.5539 (2001): 2425-2430.\n",
    "19. Tsao, Doris Y., et al. \"Faces and objects in macaque cerebral cortex.\" Nature neuroscience 6.9 (2003): 989-995.\n",
    "20. Shapley, Robert, and Michael J. Hawken. \"Color in the cortex: single-and double-opponent cells.\" Vision research 51.7 (2011): 701-717.\n",
    "21. Livingstone, Margaret S., and David H. Hubel. \"Anatomy and physiology of a color system in the primate visual cortex.\" Journal of Neuroscience 4.1 (1984): 309-356.\n",
    "22. Sincich, Lawrence C., and Jonathan C. Horton. \"The circuitry of V1 and V2: integration of color, form, and motion.\" Annu. Rev. Neurosci. 28 (2005): 303-326.\n",
    "23. Conway, Bevil R. \"Color vision, cones, and color-coding in the cortex.\" The neuroscientist 15.3 (2009): 274-290."
   ]
  },
  {
   "cell_type": "markdown",
   "metadata": {},
   "source": [
    "# Final Project\n",
    "Using SimPy, write a process simulation that includes waiting time (discrete event simulation).  You may use any topic of interest to you.  Write the simulation and all of the following in Jupyter.\n",
    "\n",
    "Each element is worth 5 points and will be graded using the rubric shown here.\n",
    "\n",
    "Be sure that your code works!"
   ]
  },
  {
   "cell_type": "markdown",
   "metadata": {},
   "source": [
    "![](huesbanner2.png)"
   ]
  }
 ],
 "metadata": {
  "kernelspec": {
   "display_name": "Python 3",
   "language": "python",
   "name": "python3"
  },
  "language_info": {
   "codemirror_mode": {
    "name": "ipython",
    "version": 3
   },
   "file_extension": ".py",
   "mimetype": "text/x-python",
   "name": "python",
   "nbconvert_exporter": "python",
   "pygments_lexer": "ipython3",
   "version": "3.7.6"
  }
 },
 "nbformat": 4,
 "nbformat_minor": 4
}
