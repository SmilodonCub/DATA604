{
 "cells": [
  {
   "cell_type": "markdown",
   "metadata": {},
   "source": [
    "# Modeling and Simulation in Python\n",
    "Allen B Downey\n",
    "\n",
    "Working through this book. Notes from reading and example code. Implementing things without using the class package."
   ]
  },
  {
   "cell_type": "markdown",
   "metadata": {},
   "source": [
    " "
   ]
  },
  {
   "cell_type": "markdown",
   "metadata": {},
   "source": [
    "## Intro\n",
    "\n",
    "**This book's immediate goal:** writing simulations of physical systems"
   ]
  },
  {
   "cell_type": "code",
   "execution_count": 16,
   "metadata": {},
   "outputs": [],
   "source": [
    "import numpy as np\n",
    "import scipy as sp\n",
    "import matplotlib as plt\n",
    "import pandas as pd\n",
    "import sympy as sym\n",
    "import pint as pt"
   ]
  },
  {
   "cell_type": "markdown",
   "metadata": {},
   "source": [
    " "
   ]
  },
  {
   "cell_type": "markdown",
   "metadata": {},
   "source": [
    "## Modeling\n",
    "\n",
    "*All models are wrong, but some are useful*\n",
    "    -George Box\n",
    "\n",
    "**abstraction:** deciding what details can be left out\n",
    "**a model** description of a system that includes only the features we think are essential. the goal of the modeling process is to find the model best suited to its purpose (prediction, explanation, or design)\n",
    "\n",
    "**often a simple model is better.** if we include only the essential features and leave out the rest,we get models that are easier to work with, and the explanations they provide can be cleaer and more compelling. start with a simple model, even if it is too simple, and test whether it is good enough  for its purpose.\n"
   ]
  },
  {
   "cell_type": "code",
   "execution_count": 11,
   "metadata": {},
   "outputs": [
    {
     "name": "stdout",
     "output_type": "stream",
     "text": [
      "9.8 meter / second ** 2\n",
      "meter / second ** 2\n",
      "[length] / [time] ** 2\n"
     ]
    }
   ],
   "source": [
    "from pint import UnitRegistry\n",
    "unitsR = UnitRegistry()\n",
    "\n",
    "#penny falling from the empire state building\n",
    "a = 9.8 * unitsR.meter / unitsR.second**2\n",
    "print( a )\n",
    "print( a.units )\n",
    "print( a.dimensionality )"
   ]
  },
  {
   "cell_type": "code",
   "execution_count": 18,
   "metadata": {},
   "outputs": [
    {
     "name": "stdout",
     "output_type": "stream",
     "text": [
      "86.42 meter / second\n"
     ]
    }
   ],
   "source": [
    "h = 381 * unitsR.meter\n",
    "t = np.sqrt( 2 * h / a )\n",
    "v = round( a * t, 2 )\n",
    "print( v )"
   ]
  },
  {
   "cell_type": "code",
   "execution_count": 21,
   "metadata": {},
   "outputs": [
    {
     "data": {
      "text/html": [
       "\\[193.32\\ mile/hour\\]"
      ],
      "text/latex": [
       "$193.32\\ \\frac{\\mathrm{mile}}{\\mathrm{hour}}$"
      ],
      "text/plain": [
       "193.32 <Unit('mile / hour')>"
      ]
     },
     "execution_count": 21,
     "metadata": {},
     "output_type": "execute_result"
    }
   ],
   "source": [
    "#convert to miles/hour\n",
    "mile = unitsR.mile\n",
    "hour = unitsR.hour\n",
    "round( v.to(mile/hour), 2 )"
   ]
  },
  {
   "cell_type": "code",
   "execution_count": 22,
   "metadata": {},
   "outputs": [],
   "source": [
    "#if same dimensionality, will convert to units of first variable\n",
    "foot = unitsR.foot\n",
    "pole_height = 10 * foot"
   ]
  },
  {
   "cell_type": "code",
   "execution_count": 23,
   "metadata": {},
   "outputs": [
    {
     "data": {
      "text/html": [
       "\\[1260.0\\ foot\\]"
      ],
      "text/latex": [
       "$1260.0\\ \\mathrm{foot}$"
      ],
      "text/plain": [
       "1260.0 <Unit('foot')>"
      ]
     },
     "execution_count": 23,
     "metadata": {},
     "output_type": "execute_result"
    }
   ],
   "source": [
    "pole_height + h"
   ]
  },
  {
   "cell_type": "code",
   "execution_count": 24,
   "metadata": {},
   "outputs": [
    {
     "data": {
      "text/html": [
       "\\[384.048\\ meter\\]"
      ],
      "text/latex": [
       "$384.048\\ \\mathrm{meter}$"
      ],
      "text/plain": [
       "384.048 <Unit('meter')>"
      ]
     },
     "execution_count": 24,
     "metadata": {},
     "output_type": "execute_result"
    }
   ],
   "source": [
    "h + pole_height"
   ]
  },
  {
   "cell_type": "code",
   "execution_count": 25,
   "metadata": {},
   "outputs": [
    {
     "data": {
      "text/html": [
       "\\[22.085034013605444\\ second\\]"
      ],
      "text/latex": [
       "$22.085034013605444\\ \\mathrm{second}$"
      ],
      "text/plain": [
       "22.085034013605444 <Unit('second')>"
      ]
     },
     "execution_count": 25,
     "metadata": {},
     "output_type": "execute_result"
    }
   ],
   "source": [
    "#but what about terminal velocity?\n",
    "#How long will it take a penny to land from the top of the \n",
    "#empire state building when we take into account that the penny \n",
    "#reaches a terminal velocity of 18 meters/second?\n",
    "meter = unitsR.meter\n",
    "second = unitsR.second\n",
    "\n",
    "# How long until the penny reaches 18 m/s with constant acceleration a.\n",
    "termV = 18 * meter / second\n",
    "time2termV = termV / a\n",
    "\n",
    "# How far would the penny fall during that time?\n",
    "dist2termV = a * time2termV**2 / 2\n",
    "\n",
    "# How long to fall the remaining distance \n",
    "#with constant velocity 18 m/s?\n",
    "remainingDist = h - dist2termV\n",
    "timeRemainingDist = remainingDist / termV\n",
    "\n",
    "# STotal time for penny to fall 381 m\n",
    "totalTime = time2termV + timeRemainingDist\n",
    "totalTime"
   ]
  }
 ],
 "metadata": {
  "kernelspec": {
   "display_name": "Python 3",
   "language": "python",
   "name": "python3"
  },
  "language_info": {
   "codemirror_mode": {
    "name": "ipython",
    "version": 3
   },
   "file_extension": ".py",
   "mimetype": "text/x-python",
   "name": "python",
   "nbconvert_exporter": "python",
   "pygments_lexer": "ipython3",
   "version": "3.7.6"
  }
 },
 "nbformat": 4,
 "nbformat_minor": 4
}
