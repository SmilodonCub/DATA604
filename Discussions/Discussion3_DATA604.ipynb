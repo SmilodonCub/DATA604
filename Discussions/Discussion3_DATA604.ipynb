{
 "cells": [
  {
   "cell_type": "markdown",
   "metadata": {},
   "source": [
    "# DATA604 Discussion Week 3\n",
    "<br>  \n",
    "#### Bonnie Cooper\n",
    "\n",
    "<br>"
   ]
  },
  {
   "cell_type": "markdown",
   "metadata": {
    "scrolled": true
   },
   "source": [
    "## 1a  In simulation, what is verification?  What is validation?  How do they differ? \n",
    "\n",
    "***\n",
    "<br>  \n",
    "\n",
    "&nbsp;&nbsp;&nbsp;&nbsp;Verification and validation are critical components in the development of a model for simulation. Verification and validation both ensure that a model is 'correct', however, they do so by different means. Validation ensures that the correct model was implemented; this is to say that the model captures the correct behavior and applies appropriate algorithms to the system that is being simulated. Verification ensures that the model was implemented correctly; meaning that the verified model is implemented with correctly coded methods and syntax.  \n",
    "<br>  \n",
    "More formal definitions of validation & verification are given by Sargent 2010 (2):\n",
    "1. **Validation** ensures that a simulated model has a satisfactory level of accuracy  and is consistent with the intended applications In the context of the modeling process, model validation determines that the theories and assumptions that underly the conceptual model correctly represent the problem entity / process being modelled. \n",
    "2. **Verification** ensures that the computer program of the simulated model and its implementation are correct. In the context of the modeling process, model verification determines that the computer programs and implementations of the conceptua model are correct\n",
    "<br>  \n",
    "\n",
    "&nbsp;&nbsp;&nbsp;&nbsp;Validation confirms that the correct model is used in simulation and verification confirms that the model was simulated correctly. Both are necessary to correctly simulate a process, however, verification and validation differ in the stages at which a model simulation is implemented. Model validation interrelates the problem entity (the system/process that is being simulated) to the conceptual of computation model implemented in the simulation. Model validation is a problem of inductive reasoning (3), that which is observed or experienced about a process is synthesized as a descriptive set of rules (computation, mathematical etc.) to constrain and describe the problem entity. Model verification checks that the theories developed from the model validation processes are implemented correctly (e.g. does the code work as intended?). Validation and verification may necessarily be iterated over numerous times during model developments and are helpful for avoiding several common pitfalls of the modeling and simulation process (4). For example, validation is helpful for balancing the difference between the model and reality; the model should accurately adhere to reality without being overly complex.  \n"
   ]
  },
  {
   "cell_type": "markdown",
   "metadata": {},
   "source": [
    "## 1b. What was done in the assigned simulation journal reading to conduct V&V?\n",
    "\n",
    "***\n",
    "\n",
    "&nbsp;&nbsp;&nbsp;&nbsp;The journal reading from Fulton *et al* (1) describes a model simulation for providing optimal support for the relocation of medical assets during military stability operations by minimizing the sum of the penalty-weighted transit time for patient evauations from point of injury to hospital sites.  \n",
    "&nbsp;&nbsp;&nbsp;&nbsp;Model evaluation ensures that the correct model is implemented. For this study, the process of model validation involved applying several methods. Expert intuitions were applied by considering both the relevant previous work and the context of the problem entity. Real measurements were used to determine many of the simulation parameters. For example, this study samples a distribution of injury severity from a military maintained database and relates the associated survival probability from the National Trauma Databank. Finally, the authors apply relevant theory to the process. For instance, many elements are modelled as stochastic events (e.g. casualty number, location and severity) and these operational laws are assessed by the authors to be appropriate for this problem. Additionally, many of the constrainst placed on the system reflect the real-world behavior of system components (e.g. adequate evacuation/hospitalization capacities cannot exceed system capability).   \n",
    "&nbsp;&nbsp;&nbsp;&nbsp;Model verification ensures that the model works as it was intended. This study verifies the model in a number of ways. For instance, seed independence is implemented by hard coded random number generation. Model consistency testing is applied by comparing model output to the results of reasonably comparable existing data. For instance, estimates from the Brooklings Institute Iraq Index for the monthly number of wounded in-actions was used to compare/constrain simulation estimates.  \n",
    "<br>  \n",
    "For a helpful summary of validation and verification methods see chapter 14 notes in reference (5)"
   ]
  },
  {
   "cell_type": "markdown",
   "metadata": {},
   "source": [
    "## 2.  Share some code from last week that was particularly rewarding or frustrating.  We will comment on it. \n",
    "\n",
    "***\n",
    "\n",
    "**1 small joy:**  \n",
    "maths with scientific notation. so simple/obvious, yet i've never seen this before   \n",
    "`un = table2.un / 1e9`\n",
    "<br>  \n",
    "\n",
    "**1 continued frustration:**  \n",
    "`modsim` specific objects such as `TimeSeries()` when the learning has higher transference and it's really just simpler to work with pandas DataFrames."
   ]
  },
  {
   "cell_type": "markdown",
   "metadata": {},
   "source": [
    "#### References\n",
    "\n",
    "1. Fulton, Lawrence V., et al. \"Two-stage stochastic optimization for the allocation of medical assets in steady-state combat operations.\" The Journal of Defense Modeling and Simulation 7.2 (2010): 89-102.\n",
    "2. Sargent, Robert G. \"Verification and validation of simulation models.\" Proceedings of the 2010 winter simulation conference. IEEE, 2010.\n",
    "3. Kleindorfear, George B., and Ram Geneshan. \"The philosophy of science and validation in simulation.\" Proceedings of the 25th conference on Winter simulation. 1993.\n",
    "4. Salt, John D. \"The seven habits of highly defective simulation projects.\" Journal of Simulation 2.3 (2008): 155-161.\n",
    "5. [University of Edinburgh Modeling and Simulation Notes](http://www.inf.ed.ac.uk/teaching/courses/ms/)\n"
   ]
  }
 ],
 "metadata": {
  "kernelspec": {
   "display_name": "Python 3",
   "language": "python",
   "name": "python3"
  },
  "language_info": {
   "codemirror_mode": {
    "name": "ipython",
    "version": 3
   },
   "file_extension": ".py",
   "mimetype": "text/x-python",
   "name": "python",
   "nbconvert_exporter": "python",
   "pygments_lexer": "ipython3",
   "version": "3.7.6"
  }
 },
 "nbformat": 4,
 "nbformat_minor": 4
}
