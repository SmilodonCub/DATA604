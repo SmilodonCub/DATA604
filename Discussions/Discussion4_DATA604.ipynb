{
 "cells": [
  {
   "cell_type": "markdown",
   "metadata": {},
   "source": [
    "# DATA604 Discussion Week 4\n",
    "\n",
    "#### Bonnie Cooper"
   ]
  },
  {
   "cell_type": "markdown",
   "metadata": {},
   "source": [
    "## 1.  Explain the balance equations from the rainwater harvesting paper posted to this week's reading. \n",
    "<br>  \n",
    "\n",
    "&nbsp;&nbsp;&nbsp;&nbsp;The purpose of the study from this week's reading(1) is to optimize the RainWater Harvesting (RWH) system requirements for a given system design to assess whether it meets the water needs of a Central Texas residence with 100% demand satisfaction. This study references the non-parametric, stochastic model developed by Basinger *et al* (2). Basinger *et al* developed a Storage and Reliability Estimation Tool (SARET) which estimates the reliability that a RWH system can meet water usage needs for a given region provided known precipitation patterns. The Basinger study is quite interesting (and relevant to CUNY SPS students) because it presents a case study based on urban NYC multifamily residential buildings. Fulton *et al* extend SARET from 25 to 64 years of historical rainfall data and apply the model to a RWH build in the Central Texas region.   \n",
    "&nbsp;&nbsp;&nbsp;&nbsp;SARET uses a series of probability equations (equations 3-8 in ref(1)) to generate a precipitation ensemble, or a series of rainfall simultions which are then sampled by bootstrapping methods to estimate the reliability that a given system can meet a user's needs given the system at criterion. For the Fulton study, the criterin was quite strict: **100% satisfaction** (100% zombie apacalypse preparedness). The output from the SARET derived rainfall predictions were passed through simple estimations for system efficiency/capture rates. From there, balance equations were used to estimate overflow, shortages, and volume in the cistern. The balance equation estimates were then evaluated for whether the simulation guranteed 100% demand satisfaction. This criterion was used to optimize the water capture cistern size. For example, the simulation was not successful with a 3000ft^2 roof capture space. However, as roof area increased, the cistern size demand decreased (a cistern of any size should work with a roof size of 5000ft^2.  \n",
    "**Balance Equations:**  \n",
    "1. Volume in the cistern on a given day(t)  \n",
    "$$V_t = Max\\{ O, V_{t-1} + C_{t} - D_{t} - O_{t} \\}$$\n",
    "2. Min/Max tank capacity  \n",
    "$$V_t = Min\\{ Max\\{ O, V_{t-1} + C_{t} - D_{t} \\}, Cap \\}$$\n",
    "3. Estimated Overflow  \n",
    "$$O_t = Max\\{ O_{t-1}, O_{t-1} + V_{t-1} + C_{t} - D_{t} - Cap \\}$$\n",
    "4. Estimated Shortage  \n",
    "$$X_t = Min\\{ X_{t-1}, X_{t-1} + V_{t-1} + C_{t} - D_{t} \\}$$\n",
    "\n",
    "\n",
    "Where $C$ = Capture supply, $D$ = demand, $O$ = overflow, $V$ = volume of cistern and $Cap$ = tank capacity\n"
   ]
  },
  {
   "cell_type": "markdown",
   "metadata": {},
   "source": [
    "## 2.  Share some code from last week that was particularly rewarding or frustrating.  We will comment on it. \n",
    "<br>  \n",
    "\n",
    "**Rewarding ♪┏(°.°)┛┗(°.°)┓┗(°.°)┛┏(°.°)┓ ♪**  \n",
    "&nbsp;&nbsp;&nbsp;&nbsp;The reparameterization exercise at the end of the chapter 7 notebook instructs us to confirm that running the simulation with both quadratic update functions yields the same results. I don't recall testing equality of pandas dataframes before, so it was rewarding to use the [equals()](https://pandas.pydata.org/pandas-docs/stable/reference/api/pandas.DataFrame.equals.html) method.\n",
    "\n",
    "`resultsQuad_rK.equals(resultsQuad_AlphaBeta)` \n",
    "which returned `True`\n",
    "<br>  \n",
    "**Frustrating  ლ(ಠ益ಠ)ლ**  \n",
    "Keep having to hunt through the notebook cells to comment out the savefig commands. ¯\\\\_(ツ)_/¯ "
   ]
  },
  {
   "cell_type": "markdown",
   "metadata": {},
   "source": [
    "## References\n",
    "\n",
    "1. Fulton, Lawrence V., et al. \"Rainwater harvesting system using a non-parametric stochastic rainfall generator.\" Simulation 89.6 (2013): 693-702.\n",
    "2. Basinger, Matt, Franco Montalto, and Upmanu Lall. \"A rainwater harvesting system reliability model based on nonparametric stochastic rainfall generator.\" Journal of Hydrology 392.3-4 (2010): 105-118.\n",
    "3. [pandas.DataFrame.equals()](https://pandas.pydata.org/pandas-docs/stable/reference/api/pandas.DataFrame.equals.html)"
   ]
  }
 ],
 "metadata": {
  "kernelspec": {
   "display_name": "Python 3",
   "language": "python",
   "name": "python3"
  },
  "language_info": {
   "codemirror_mode": {
    "name": "ipython",
    "version": 3
   },
   "file_extension": ".py",
   "mimetype": "text/x-python",
   "name": "python",
   "nbconvert_exporter": "python",
   "pygments_lexer": "ipython3",
   "version": "3.7.6"
  }
 },
 "nbformat": 4,
 "nbformat_minor": 4
}
